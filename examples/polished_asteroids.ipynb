{
 "cells": [
  {
   "cell_type": "code",
   "execution_count": 1,
   "metadata": {},
   "outputs": [],
   "source": [
    "import enact\n",
    "import asteroid_wrapper"
   ]
  },
  {
   "cell_type": "markdown",
   "metadata": {},
   "source": [
    "Here's the idea with the recursive flow. We know that we want to build towards some `control` function that will provide a control policy. For this top-level function, we have a policy checker that allows us to visually debug and critique the final control policy. But we want to build this policy up recursively, producing helper functions that we don't know ahead of time.\n",
    "\n",
    "Additionally, we want to keep track of previously generated code to \n",
    "1. Automatically update the context so future code generation will use existing functions without manual prompt engineering.\n",
    "2. Keep a running code book of generated programs for execution.\n",
    "\n",
    "This basic auto-prompting and auto-execution reduces the workflow changes required by the user.\n",
    "\n",
    "Additionally, we can provide a source file that we are working with, in this case `asteroids.py`. This file isn't getting sent to the LLM but will be used for code execution. This prevents huge context sizes while allowing us to verify that generated code works with our specific game implementation."
   ]
  },
  {
   "cell_type": "code",
   "execution_count": 6,
   "metadata": {},
   "outputs": [
    {
     "name": "stdout",
     "output_type": "stream",
     "text": [
      "Running on local URL:  http://127.0.0.1:7861\n",
      "Running on public URL: https://4bf44323f9351b4417.gradio.live\n",
      "\n",
      "This share link expires in 72 hours. For free permanent hosting and GPU upgrades, run `gradio deploy` from Terminal to deploy to Spaces (https://huggingface.co/spaces)\n"
     ]
    },
    {
     "data": {
      "text/html": [
       "<div><iframe src=\"https://4bf44323f9351b4417.gradio.live\" width=\"100%\" height=\"500\" allow=\"autoplay; camera; microphone; clipboard-read; clipboard-write;\" frameborder=\"0\" allowfullscreen></iframe></div>"
      ],
      "text/plain": [
       "<IPython.core.display.HTML object>"
      ]
     },
     "metadata": {},
     "output_type": "display_data"
    }
   ],
   "source": [
    "import enact.gradio as gradio\n",
    "\n",
    "general_prompt = '''\n",
    "  Write a concise python function with the following signature.\n",
    "  Answer with a single code block.'''\n",
    "\n",
    "\n",
    "store = enact.Store()\n",
    "with store:\n",
    "  recursive_policy_gen = asteroid_wrapper.RecursivePolicyGen(general_prompt, 'control', './asteroids.py')\n",
    "  ref = enact.commit(recursive_policy_gen)\n",
    "  gui = gradio.gradio.GUI(\n",
    "    ref,\n",
    "    input_required_outputs=[enact.Image],\n",
    "    input_required_inputs=[enact.Str])\n",
    "  gui.launch(share=True)"
   ]
  },
  {
   "cell_type": "code",
   "execution_count": null,
   "metadata": {},
   "outputs": [],
   "source": []
  }
 ],
 "metadata": {
  "kernelspec": {
   "display_name": ".venv",
   "language": "python",
   "name": "python3"
  },
  "language_info": {
   "codemirror_mode": {
    "name": "ipython",
    "version": 3
   },
   "file_extension": ".py",
   "mimetype": "text/x-python",
   "name": "python",
   "nbconvert_exporter": "python",
   "pygments_lexer": "ipython3",
   "version": "3.8.10"
  },
  "orig_nbformat": 4
 },
 "nbformat": 4,
 "nbformat_minor": 2
}
