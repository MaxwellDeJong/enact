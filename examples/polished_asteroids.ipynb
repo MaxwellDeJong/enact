{
 "cells": [
  {
   "cell_type": "code",
   "execution_count": 1,
   "metadata": {},
   "outputs": [],
   "source": [
    "import enact\n",
    "import examples.asteroid_wrapper as asteroid_wrapper"
   ]
  },
  {
   "cell_type": "code",
   "execution_count": 2,
   "metadata": {},
   "outputs": [],
   "source": [
    "# This string can be copied into the UI to produce an asteroids control policy.\n",
    "'''\n",
    "\n",
    "```\n",
    "def control_one_goal(state: State) -> Action:\n",
    "  \"\"\"Control an asteroids-style ship to move to a goal.\n",
    "  \n",
    "  Args:\n",
    "    state: State object encoding the game state. Attributes include\n",
    "      state.position: Numpy array representing the x and y player position.\n",
    "      state.goal_position: Numpy array representing the x and y goal position.\n",
    "      state.rotation: Numpy array representing the player rotation.\n",
    "\n",
    "      Note that each of these attributes has a batch dimension of 1, so the\n",
    "      current position of the player can be retrieved via state.position[0].\n",
    "\n",
    "  Returns:\n",
    "    An Action object, formed by first producing a pair of floats representing:\n",
    "      torque: The amount of torque to apply to the ship, between -1 and 1.\n",
    "      thrust: The amount of thrust to apply to the ship, between 0.0 and 1\n",
    "\n",
    "    The floats should be returned by wrapping them in\n",
    "      Action(np.array([torque, thrust])[np.newaxis]).\n",
    "  \"\"\"\n",
    "  <INSERT IMPLEMENTATION HERE>\n",
    "```\n",
    "\n",
    "Do not define a State or Action class but instead treat the classes as already\n",
    "defined.\n",
    "'''"
   ]
  },
  {
   "cell_type": "code",
   "execution_count": 3,
   "metadata": {},
   "outputs": [
    {
     "name": "stdout",
     "output_type": "stream",
     "text": [
      "Running on local URL:  http://127.0.0.1:7860\n",
      "Running on public URL: https://6b9644cdce9d0e6947.gradio.live\n",
      "\n",
      "This share link expires in 72 hours. For free permanent hosting and GPU upgrades, run `gradio deploy` from Terminal to deploy to Spaces (https://huggingface.co/spaces)\n"
     ]
    },
    {
     "data": {
      "text/html": [
       "<div><iframe src=\"https://6b9644cdce9d0e6947.gradio.live\" width=\"100%\" height=\"500\" allow=\"autoplay; camera; microphone; clipboard-read; clipboard-write;\" frameborder=\"0\" allowfullscreen></iframe></div>"
      ],
      "text/plain": [
       "<IPython.core.display.HTML object>"
      ]
     },
     "metadata": {},
     "output_type": "display_data"
    }
   ],
   "source": [
    "import enact.gradio as gradio\n",
    "\n",
    "general_prompt = '''\n",
    "  Write a concise python function with the following signature.\n",
    "  Answer with a single code block.'''\n",
    "\n",
    "\n",
    "store = enact.Store()\n",
    "with store:\n",
    "  recursive_policy_gen = asteroid_wrapper.RecursivePolicyGen(general_prompt, './asteroids.py')\n",
    "  ref = enact.commit(recursive_policy_gen)\n",
    "  gui = gradio.gradio.GUI(\n",
    "    ref,\n",
    "    input_required_outputs=[enact.Image],\n",
    "    input_required_inputs=[enact.Str])\n",
    "  gui.launch(share=True)"
   ]
  },
  {
   "cell_type": "code",
   "execution_count": null,
   "metadata": {},
   "outputs": [],
   "source": []
  }
 ],
 "metadata": {
  "kernelspec": {
   "display_name": ".venv",
   "language": "python",
   "name": "python3"
  },
  "language_info": {
   "codemirror_mode": {
    "name": "ipython",
    "version": 3
   },
   "file_extension": ".py",
   "mimetype": "text/x-python",
   "name": "python",
   "nbconvert_exporter": "python",
   "pygments_lexer": "ipython3",
   "version": "3.8.10"
  },
  "orig_nbformat": 4
 },
 "nbformat": 4,
 "nbformat_minor": 2
}
