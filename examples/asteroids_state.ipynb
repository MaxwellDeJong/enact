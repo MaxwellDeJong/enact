{
 "cells": [
  {
   "cell_type": "code",
   "execution_count": 1,
   "metadata": {},
   "outputs": [],
   "source": [
    "import dataclasses\n",
    "import io\n",
    "import traceback\n",
    "\n",
    "from matplotlib import pyplot as plt\n",
    "import numpy as np\n",
    "import PIL.Image\n",
    "\n",
    "import sys\n",
    "sys.path.append('../src/')\n",
    "\n",
    "import chat\n",
    "import llm_task\n",
    "\n",
    "import enact\n",
    "\n",
    "import asteroids\n",
    "\n",
    "\n",
    "\n",
    "task_prompt = '''\n",
    "Write a concise python function with the following signature.\n",
    "Answer with a single code block.'''\n",
    "code_gen_prompt = '''\n",
    "\n",
    "```\n",
    "def control(state: State) -> Tuple[float, float]:\n",
    "  \"\"\"Control an asteroids-style ship to move to a goal.\n",
    "  \n",
    "  Args:\n",
    "    state: State object encoding the game state. Attributes include\n",
    "      state.position: Numpy array representing the x and y player position.\n",
    "      state.goal_position: Numpy array representing the x and y goal position.\n",
    "      state.rotation: Numpy array representing the player rotation.\n",
    "\n",
    "      Note that each of these attributes has a batch dimension of 1, so the\n",
    "      current position of the player can be retrieved via state.position[0].\n",
    "\n",
    "  Returns:\n",
    "    A pair of floats representing:\n",
    "      torque: The amount of torque to apply to the ship, between -1 and 1.\n",
    "      thrust: The amount of thrust to apply to the ship, between 0.0 and 1\n",
    "  \"\"\"\n",
    "  <INSERT IMPLEMENTATION HERE>\n",
    "```\n",
    "\n",
    "Do not define a State class but instead treat the class as already defined.\n",
    "'''\n",
    "\n",
    "@enact.typed_invokable(enact.Str, enact.Image)\n",
    "class PolicyVisualizer(enact.Invokable):\n",
    "  \"\"\"Visualizes a policy provided (as a string).\"\"\"\n",
    "\n",
    "  def call(self, code: enact.Str) -> enact.Image:\n",
    "    \"\"\"Plots policy trajectories.\"\"\"\n",
    "    def_dict = {}\n",
    "    exec(code, def_dict)\n",
    "    control = def_dict['control']\n",
    "    def policy(state: asteroids.State) -> asteroids.Action:\n",
    "      return asteroids.Action(np.array(control(state))[np.newaxis])\n",
    "\n",
    "    _, ((ax1, ax2), (ax3, ax4)) = plt.subplots(2, 2)\n",
    "   \n",
    "    for ax in [ax1, ax2, ax3, ax4]:\n",
    "      t = asteroids.create_trajectory(policy, batch_shape=(1,), steps=300)\n",
    "      asteroids.plot_trajectory(t, axis=ax)\n",
    "    b = io.BytesIO()\n",
    "    plt.savefig(b, format='png')\n",
    "    return enact.Image(PIL.Image.open(b))\n",
    "\n",
    "\n",
    "@enact.typed_invokable(enact.Str, llm_task.ProcessedOutput)\n",
    "class PolicyChecker(enact.Invokable):\n",
    "\n",
    "  def call(self, input: enact.Str) -> llm_task.ProcessedOutput:\n",
    "    if not input.startswith('```python') and not input.startswith('```'):\n",
    "      return llm_task.ProcessedOutput(\n",
    "        output=None, correction='Input must start with \"```\".')\n",
    "    if not input.endswith('```'):\n",
    "      return llm_task.ProcessedOutput(\n",
    "        output=None, correction='Input must end with \"```\".')\n",
    "    if '```' in input[3:-3]:\n",
    "      return llm_task.ProcessedOutput(\n",
    "        output=None, correction='Input must be a single code block```\".')\n",
    "    if input.startswith('```python'):\n",
    "      code = input[len('```python`'):-len('```')]\n",
    "    else:\n",
    "      code = input[len('```'):-len('```')]\n",
    "    def_dict = {}\n",
    "    print(code)\n",
    "    try:\n",
    "      exec(code, def_dict)\n",
    "    except Exception as e:\n",
    "      return llm_task.ProcessedOutput(\n",
    "        output=None,\n",
    "        correction=f'Your code raised an exception while parsing: {e}\\n{traceback.format_exc()}')\n",
    "    control = def_dict.get('control')\n",
    "    if not control:\n",
    "      return llm_task.ProcessedOutput(\n",
    "        output=None,\n",
    "        correction='Your code did not define a `control` function.')\n",
    "    try:\n",
    "      result = control(asteroids.State(batch_shape=(1,)))\n",
    "    except Exception as e:\n",
    "      print(traceback.format_exc())\n",
    "      return llm_task.ProcessedOutput(\n",
    "        output=None,\n",
    "        correction=f'Your code raised an exception while running: {e}\\n{traceback.format_exc()}')\n",
    "    try:\n",
    "      thrust, torque = result\n",
    "      thrust = float(thrust)\n",
    "      torque = float(torque)\n",
    "    except TypeError:\n",
    "      return llm_task.ProcessedOutput(\n",
    "        output=None,\n",
    "        correction='Your code could not be unpacked into two float values.')\n",
    "    print(code)\n",
    "    critique = enact.RequestInput(enact.Str, 'Please critique the policy or leave empty if ok.')(\n",
    "      PolicyVisualizer()(enact.Str(code)))\n",
    "  \n",
    "    if critique != '':\n",
    "      return llm_task.ProcessedOutput(\n",
    "        output=None, correction=f'User critique: {critique}')\n",
    "    \n",
    "    return llm_task.ProcessedOutput(\n",
    "      output=code, correction=None)\n",
    "      \n",
    "\n",
    "code_gen = llm_task.Task(\n",
    "  task_prompt=task_prompt,\n",
    "  chat_agent=chat.GPTAgent(model='gpt-4'))\n",
    "code_gen.add_example(\n",
    "  '''```def add(x: int, y: int):\\n  <INSERT IMPLEMENTATION HERE>```''',\n",
    "  '''```python\\ndef add(x: int, y: int):\\n  return x + y\\n```''')\n",
    "\n",
    "@enact.typed_invokable(enact.NoneResource, enact.Str)\n",
    "@dataclasses.dataclass\n",
    "class CreatePolicy(enact.Invokable):\n",
    "  code_gen: llm_task.Task\n",
    "  \n",
    "  def call(self):\n",
    "    return self.code_gen(enact.Str(code_gen_prompt))\n",
    "\n",
    "\n",
    "#store = enact.Store(backend=enact.FileBackend('/home/max/Documents/enact/examples/store_backend/'))\n",
    "store = enact.Store()\n",
    "with store:\n",
    "  post_processor_ref = enact.commit(PolicyChecker())\n",
    "  code_gen.post_processor = post_processor_ref\n",
    "  code_gen.max_retries = 2\n",
    "  create_policy = CreatePolicy(code_gen)\n"
   ]
  },
  {
   "cell_type": "code",
   "execution_count": 2,
   "metadata": {},
   "outputs": [
    {
     "name": "stdout",
     "output_type": "stream",
     "text": [
      "Running on local URL:  http://127.0.0.1:7860\n",
      "Running on public URL: https://8afdb1d37127cb842d.gradio.live\n",
      "\n",
      "This share link expires in 72 hours. For free permanent hosting and GPU upgrades, run `gradio deploy` from Terminal to deploy to Spaces (https://huggingface.co/spaces)\n"
     ]
    },
    {
     "data": {
      "text/html": [
       "<div><iframe src=\"https://8afdb1d37127cb842d.gradio.live\" width=\"100%\" height=\"500\" allow=\"autoplay; camera; microphone; clipboard-read; clipboard-write;\" frameborder=\"0\" allowfullscreen></iframe></div>"
      ],
      "text/plain": [
       "<IPython.core.display.HTML object>"
      ]
     },
     "metadata": {},
     "output_type": "display_data"
    },
    {
     "name": "stdout",
     "output_type": "stream",
     "text": [
      "def control(state: State) -> Tuple[float, float]:\n",
      "  \"\"\"Control an asteroids-style ship to move to a goal.\"\"\"\n",
      "  \n",
      "  # Calculate the vector to the goal.\n",
      "  vector_to_goal = state.goal_position[0] - state.position[0]\n",
      "\n",
      "  # Use atan2 to find the angle to the goal relative to the ship's orientation.\n",
      "  angle_to_goal = np.arctan2(vector_to_goal[1], vector_to_goal[0]) - state.rotation[0]\n",
      "\n",
      "  # Normalizes the angle to the range [-pi, pi]\n",
      "  angle_to_goal = (angle_to_goal + np.pi) % (2 * np.pi) - np.pi\n",
      "\n",
      "  # Calculate the proportion of the direction the ship should rotate.\n",
      "  torque = angle_to_goal / np.pi\n",
      "\n",
      "  # Calculate the proportion of the distance the ship should thrust.\n",
      "  thrust = min(1.0, np.linalg.norm(vector_to_goal) / 100.0)\n",
      "  \n",
      "  return torque, thrust\n",
      "\n",
      "import numpy as np\n",
      "from typing import Tuple\n",
      "\n",
      "class State:\n",
      "  pass\n",
      "\n",
      "def control(state: State) -> Tuple[float, float]:\n",
      "\n",
      "  vector_to_goal = state.goal_position[0] - state.position[0]\n",
      " \n",
      "  angle_to_goal = np.arctan2(vector_to_goal[1], vector_to_goal[0]) - state.rotation[0]\n",
      "  angle_to_goal = (angle_to_goal + np.pi) % (2 * np.pi) - np.pi\n",
      " \n",
      "  torque = angle_to_goal / np.pi\n",
      " \n",
      "  thrust = min(1.0, np.linalg.norm(vector_to_goal) / 100.0)\n",
      "  \n",
      "  return torque, thrust\n",
      "\n",
      "import numpy as np\n",
      "from typing import Tuple\n",
      "\n",
      "class State:\n",
      "  pass\n",
      "\n",
      "def control(state: State) -> Tuple[float, float]:\n",
      "\n",
      "  vector_to_goal = state.goal_position[0] - state.position[0]\n",
      " \n",
      "  angle_to_goal = np.arctan2(vector_to_goal[1], vector_to_goal[0]) - state.rotation[0]\n",
      "  angle_to_goal = (angle_to_goal + np.pi) % (2 * np.pi) - np.pi\n",
      " \n",
      "  torque = angle_to_goal / np.pi\n",
      " \n",
      "  thrust = min(1.0, np.linalg.norm(vector_to_goal) / 100.0)\n",
      "  \n",
      "  return torque, thrust\n",
      "\n"
     ]
    }
   ],
   "source": [
    "import enact.gradio\n",
    "with store:\n",
    "  ref = enact.commit(create_policy)\n",
    "  gui = enact.gradio.GUI(\n",
    "    ref,\n",
    "    input_required_outputs=[enact.Image],\n",
    "    input_required_inputs=[enact.Str])\n",
    "  gui.launch(share=True)\n",
    "  #gui.queue().launch(share=True)"
   ]
  },
  {
   "cell_type": "code",
   "execution_count": 21,
   "metadata": {},
   "outputs": [
    {
     "data": {
      "text/plain": [
       "array([0., 1.])"
      ]
     },
     "execution_count": 21,
     "metadata": {},
     "output_type": "execute_result"
    }
   ],
   "source": [
    "\n",
    "np.array((0, 1.))"
   ]
  },
  {
   "cell_type": "code",
   "execution_count": 24,
   "metadata": {},
   "outputs": [],
   "source": [
    "def my_control(state):\n",
    "    direction_to_goal = np.arctan2(state.goal_position[1] - state.position[1], state.goal_position[0] - state.position[0])\n",
    "    rotation_difference = np.arctan2(np.sin(direction_to_goal - state.rotation), np.cos(direction_to_goal - state.rotation))\n",
    "\n",
    "    if rotation_difference > 0:\n",
    "        torque = 1\n",
    "    else:\n",
    "        torque = -1\n",
    "  \n",
    "    distance_to_goal = np.linalg.norm(state.goal_position - state.position)\n",
    "\n",
    "    if distance_to_goal < 1:\n",
    "        thrust = distance_to_goal\n",
    "    else:\n",
    "        thrust = 1\n",
    "\n",
    "    return (torque, thrust)"
   ]
  },
  {
   "cell_type": "code",
   "execution_count": 6,
   "metadata": {},
   "outputs": [
    {
     "data": {
      "text/plain": [
       "<State: [[ 1.9548714  11.621289   -0.08679825  0.          0.          0.\n",
       "  16.246428   11.920341    0.        ]]>"
      ]
     },
     "execution_count": 6,
     "metadata": {},
     "output_type": "execute_result"
    }
   ],
   "source": [
    "s = asteroids.State(batch_shape=(1,))\n",
    "s"
   ]
  },
  {
   "cell_type": "code",
   "execution_count": 7,
   "metadata": {},
   "outputs": [
    {
     "data": {
      "text/plain": [
       "array([ 1.9548714, 11.621289 ], dtype=float32)"
      ]
     },
     "execution_count": 7,
     "metadata": {},
     "output_type": "execute_result"
    }
   ],
   "source": [
    "s.position[0]"
   ]
  },
  {
   "cell_type": "code",
   "execution_count": 26,
   "metadata": {},
   "outputs": [
    {
     "data": {
      "text/plain": [
       "(-1, 1)"
      ]
     },
     "execution_count": 26,
     "metadata": {},
     "output_type": "execute_result"
    }
   ],
   "source": [
    "my_control(s)"
   ]
  },
  {
   "cell_type": "code",
   "execution_count": 12,
   "metadata": {},
   "outputs": [
    {
     "data": {
      "text/plain": [
       "CreatePolicy(code_gen=Task(task_prompt='\\nWrite a concise python function with the following signature.\\nAnswer with a single code block.', examples=[TaskExample(input='```def add(x: int, y: int):\\n  <INSERT IMPLEMENTATION HERE>```', output='```python\\ndef add(x: int, y: int):\\n  return x + y\\n```')], corrections=[], post_processor=<Ref: b4a2c77e2d5e3e325ed9d46290d6e659fbd2c6913d4474a64a19adb0db46759f>, max_retries=10, chat_agent=GPTAgent(model='gpt-4')))"
      ]
     },
     "execution_count": 12,
     "metadata": {},
     "output_type": "execute_result"
    }
   ],
   "source": [
    "gui._invokable.get()"
   ]
  },
  {
   "cell_type": "code",
   "execution_count": 30,
   "metadata": {},
   "outputs": [],
   "source": [
    "digest_str = '{\"digest\": \"2e265fb9494ecfb1f38fede82760e0110aac65a02e1928b8042e2e74d28ca96c\"}'"
   ]
  },
  {
   "cell_type": "code",
   "execution_count": 31,
   "metadata": {},
   "outputs": [
    {
     "name": "stdout",
     "output_type": "stream",
     "text": [
      "Invocation:\n",
      "  request:\n",
      "    -> Request#958f82:\n",
      "      invokable:\n",
      "        -> CreatePolicy#b08e74:\n",
      "          code_gen:\n",
      "            Task:\n",
      "              task_prompt: '\\nWrite a concise python function with the following signature.\\nAnswer with a single code block.'\n",
      "              examples: [ TaskExample(input='```def add(x: int, y: int):\\n  <INSERT IMPLEMENTATION HERE>```', output='```python\\ndef add(x: int, y: int):\\n  return x + y\\n```')]\n",
      "              corrections: []\n",
      "              post_processor: -> PolicyChecker()#b4a2c7\n",
      "              max_retries: 10\n",
      "              chat_agent: GPTAgent(model='gpt-4')\n",
      "      input: -> NoneResource()#4c96e8\n",
      "  response:\n",
      "    -> Response#dc0394:\n",
      "      invokable:\n",
      "        -> CreatePolicy#b08e74:\n",
      "          code_gen:\n",
      "            Task:\n",
      "              task_prompt: '\\nWrite a concise python function with the following signature.\\nAnswer with a single code block.'\n",
      "              examples: [ TaskExample(input='```def add(x: int, y: int):\\n  <INSERT IMPLEMENTATION HERE>```', output='```python\\ndef add(x: int, y: int):\\n  return x + y\\n```')]\n",
      "              corrections: []\n",
      "              post_processor: -> PolicyChecker()#b4a2c7\n",
      "              max_retries: 10\n",
      "              chat_agent: GPTAgent(model='gpt-4')\n",
      "      output: -> 'import numpy as np\\nfrom typing import Tuple\\n\\ndef control(position: np.ndarray,\\n            goal: np.ndarray,\\n            orientation: float) -> Tuple[float, float]:\\n  \"\"\"Control an asteroids-style ship to move to a goal.\\n  \\n  Args:\\n    position: A 2D vector representing the position of the ship.\\n    goal: A 2D vector representing the position of the goal.\\n    orientation: A float representing the orientation of the ship in radians.\\n  Returns:\\n    A pair of floats representing:\\n      torque: The amount of torque to apply to the ship, between -1 and 1.\\n      thrust: The amount of thrust to apply to the ship, between 0.0 and 1\\n  \"\"\"\\n  diff = goal - position\\n  angle_to_goal = np.arctan2(diff[1], diff[0])\\n  angle_diff = (angle_to_goal - orientation) % (2*np.pi)\\n  if angle_diff > np.pi:\\n    angle_diff -= 2 * np.pi\\n  torque = np.clip(angle_diff, -1, 1)\\n  distance = np.linalg.norm(diff)\\n  thrust = np.clip(distance, 0.0, 1.0)\\n  return torque, thrust\\n  '#51b0b9\n",
      "      raised: None\n",
      "      raised_here: False\n",
      "      children:\n",
      "        [\n",
      "          -> Invocation#90f742:\n",
      "            request:\n",
      "              -> Request#814ab0:\n",
      "                invokable:\n",
      "                  -> Task#5e59b1:\n",
      "                    task_prompt: '\\nWrite a concise python function with the following signature.\\nAnswer with a single code block.'\n",
      "                    examples: [ TaskExample(input='```def add(x: int, y: int):\\n  <INSERT IMPLEMENTATION HERE>```', output='```python\\ndef add(x: int, y: int):\\n  return x + y\\n```')]\n",
      "                    corrections: []\n",
      "                    post_processor: -> PolicyChecker()#b4a2c7\n",
      "                    max_retries: 10\n",
      "                    chat_agent: GPTAgent(model='gpt-4')\n",
      "                input: -> '\\n\\n```\\ndef control(position: np.ndarray,\\n            goal: np.ndarray,\\n            orientation: float) -> Tuple[float, float]\\n  \"\"\"Control an asteroids-style ship to move to a goal.\\n  \\n  Args:\\n    position: A 2D vector representing the position of the ship.\\n    goal: A 2D vector representing the position of the goal.\\n    orientation: A float representing the orientation of the ship in radians.\\n  Returns:\\n    A pair of floats representing:\\n      torque: The amount of torque to apply to the ship, between -1 and 1.\\n      thrust: The amount of thrust to apply to the ship, between 0.0 and 1\\n  \"\"\"\\n  <INSERT IMPLEMENTATION HERE>\\n```\\n'#6f863b\n",
      "            response:\n",
      "              -> Response#28087e:\n",
      "                invokable:\n",
      "                  -> Task#5e59b1:\n",
      "                    task_prompt: '\\nWrite a concise python function with the following signature.\\nAnswer with a single code block.'\n",
      "                    examples: [ TaskExample(input='```def add(x: int, y: int):\\n  <INSERT IMPLEMENTATION HERE>```', output='```python\\ndef add(x: int, y: int):\\n  return x + y\\n```')]\n",
      "                    corrections: []\n",
      "                    post_processor: -> PolicyChecker()#b4a2c7\n",
      "                    max_retries: 10\n",
      "                    chat_agent: GPTAgent(model='gpt-4')\n",
      "                output: -> 'import numpy as np\\nfrom typing import Tuple\\n\\ndef control(position: np.ndarray,\\n            goal: np.ndarray,\\n            orientation: float) -> Tuple[float, float]:\\n  \"\"\"Control an asteroids-style ship to move to a goal.\\n  \\n  Args:\\n    position: A 2D vector representing the position of the ship.\\n    goal: A 2D vector representing the position of the goal.\\n    orientation: A float representing the orientation of the ship in radians.\\n  Returns:\\n    A pair of floats representing:\\n      torque: The amount of torque to apply to the ship, between -1 and 1.\\n      thrust: The amount of thrust to apply to the ship, between 0.0 and 1\\n  \"\"\"\\n  diff = goal - position\\n  angle_to_goal = np.arctan2(diff[1], diff[0])\\n  angle_diff = (angle_to_goal - orientation) % (2*np.pi)\\n  if angle_diff > np.pi:\\n    angle_diff -= 2 * np.pi\\n  torque = np.clip(angle_diff, -1, 1)\\n  distance = np.linalg.norm(diff)\\n  thrust = np.clip(distance, 0.0, 1.0)\\n  return torque, thrust\\n  '#51b0b9\n",
      "                raised: None\n",
      "                raised_here: False\n",
      "                children:\n",
      "                  [\n",
      "                    -> Invocation#cf44d5:\n",
      "                      request:\n",
      "                        -> Request#ffd1be:\n",
      "                          invokable: -> GPTAgent(model='gpt-4')#d05f91\n",
      "                          input:\n",
      "                            -> Conversation#8bc41d:\n",
      "                              messages:\n",
      "                                [\n",
      "                                  Message(role='system', content='Your job is to accomplish the following task. Adhere closely to the provided task description and examples (if provided).\\nTASK: \\nWrite a concise python function with the following signature.\\nAnswer with a single code block.')\n",
      "                                  Message(role='system', content='The following is a list of examples.')\n",
      "                                  Message(role='system', content='INPUT:')\n",
      "                                  Message(role='system', content='```def add(x: int, y: int):\\n  <INSERT IMPLEMENTATION HERE>```')\n",
      "                                  Message(role='system', content='OUTPUT:')\n",
      "                                  Message(role='system', content='```python\\ndef add(x: int, y: int):\\n  return x + y\\n```')\n",
      "                                  Message(role='system', content='START TASK:')\n",
      "                                  Message(role='system', content='INPUT:')\n",
      "                                  Message(role='system', content='\\n\\n```\\ndef control(position: np.ndarray,\\n            goal: np.ndarray,\\n            orientation: float) -> Tuple[float, float]\\n  \"\"\"Control an asteroids-style ship to move to a goal.\\n  \\n  Args:\\n    position: A 2D vector representing the position of the ship.\\n    goal: A 2D vector representing the position of the goal.\\n    orientation: A float representing the orientation of the ship in radians.\\n  Returns:\\n    A pair of floats representing:\\n      torque: The amount of torque to apply to the ship, between -1 and 1.\\n      thrust: The amount of thrust to apply to the ship, between 0.0 and 1\\n  \"\"\"\\n  <INSERT IMPLEMENTATION HERE>\\n```\\n')\n",
      "                                  Message(role='system', content='OUTPUT:')]\n",
      "                      response:\n",
      "                        -> Response#523767:\n",
      "                          invokable: -> GPTAgent(model='gpt-4')#d05f91\n",
      "                          output: -> Message(role='assistant', content='```python\\nimport numpy as np\\nfrom typing import Tuple\\n\\ndef control(position: np.ndarray,\\n            goal: np.ndarray,\\n            orientation: float) -> Tuple[float, float]:\\n  \"\"\"Control an asteroids-style ship to move to a goal.\\n  \\n  Args:\\n    position: A 2D vector representing the position of the ship.\\n    goal: A 2D vector representing the position of the goal.\\n    orientation: A float representing the orientation of the ship in radians.\\n  Returns:\\n    A pair of floats representing:\\n      torque: The amount of torque to apply to the ship, between -1 and 1.\\n      thrust: The amount of thrust to apply to the ship, between 0.0 and 1\\n  \"\"\"\\n  diff = goal - position\\n  angle_to_goal = np.arctan2(diff[1], diff[0])\\n  angle_diff = (angle_to_goal - orientation) % (2*np.pi)\\n  if angle_diff > np.pi:\\n    angle_diff -= 2 * np.pi\\n  torque = np.clip(angle_diff, -1, 1)\\n  distance = np.linalg.norm(diff)\\n  thrust = np.clip(distance, 0.0, 1.0)\\n  return torque, thrust\\n  ```')#87ee16\n",
      "                          raised: None\n",
      "                          raised_here: False\n",
      "                          children: []\n",
      "                      timestamp_ns: 1690914724615067281\n",
      "                    -> Invocation#3b89ed:\n",
      "                      request:\n",
      "                        -> Request#aecb67:\n",
      "                          invokable: -> PolicyChecker()#b4a2c7\n",
      "                          input: -> '```python\\nimport numpy as np\\nfrom typing import Tuple\\n\\ndef control(position: np.ndarray,\\n            goal: np.ndarray,\\n            orientation: float) -> Tuple[float, float]:\\n  \"\"\"Control an asteroids-style ship to move to a goal.\\n  \\n  Args:\\n    position: A 2D vector representing the position of the ship.\\n    goal: A 2D vector representing the position of the goal.\\n    orientation: A float representing the orientation of the ship in radians.\\n  Returns:\\n    A pair of floats representing:\\n      torque: The amount of torque to apply to the ship, between -1 and 1.\\n      thrust: The amount of thrust to apply to the ship, between 0.0 and 1\\n  \"\"\"\\n  diff = goal - position\\n  angle_to_goal = np.arctan2(diff[1], diff[0])\\n  angle_diff = (angle_to_goal - orientation) % (2*np.pi)\\n  if angle_diff > np.pi:\\n    angle_diff -= 2 * np.pi\\n  torque = np.clip(angle_diff, -1, 1)\\n  distance = np.linalg.norm(diff)\\n  thrust = np.clip(distance, 0.0, 1.0)\\n  return torque, thrust\\n  ```'#dfe9e0\n",
      "                      response:\n",
      "                        -> Response#dcbf13:\n",
      "                          invokable: -> PolicyChecker()#b4a2c7\n",
      "                          output: -> ProcessedOutput(output='import numpy as np\\nfrom typing import Tuple\\n\\ndef control(position: np.ndarray,\\n            goal: np.ndarray,\\n            orientation: float) -> Tuple[float, float]:\\n  \"\"\"Control an asteroids-style ship to move to a goal.\\n  \\n  Args:\\n    position: A 2D vector representing the position of the ship.\\n    goal: A 2D vector representing the position of the goal.\\n    orientation: A float representing the orientation of the ship in radians.\\n  Returns:\\n    A pair of floats representing:\\n      torque: The amount of torque to apply to the ship, between -1 and 1.\\n      thrust: The amount of thrust to apply to the ship, between 0.0 and 1\\n  \"\"\"\\n  diff = goal - position\\n  angle_to_goal = np.arctan2(diff[1], diff[0])\\n  angle_diff = (angle_to_goal - orientation) % (2*np.pi)\\n  if angle_diff > np.pi:\\n    angle_diff -= 2 * np.pi\\n  torque = np.clip(angle_diff, -1, 1)\\n  distance = np.linalg.norm(diff)\\n  thrust = np.clip(distance, 0.0, 1.0)\\n  return torque, thrust\\n  ', correction=None)#f5c5ec\n",
      "                          raised: None\n",
      "                          raised_here: False\n",
      "                          children:\n",
      "                            [\n",
      "                              -> Invocation#7fdd1f:\n",
      "                                request:\n",
      "                                  -> Request#e0e369:\n",
      "                                    invokable: -> PolicyVisualizer()#812db9\n",
      "                                    input: -> 'import numpy as np\\nfrom typing import Tuple\\n\\ndef control(position: np.ndarray,\\n            goal: np.ndarray,\\n            orientation: float) -> Tuple[float, float]:\\n  \"\"\"Control an asteroids-style ship to move to a goal.\\n  \\n  Args:\\n    position: A 2D vector representing the position of the ship.\\n    goal: A 2D vector representing the position of the goal.\\n    orientation: A float representing the orientation of the ship in radians.\\n  Returns:\\n    A pair of floats representing:\\n      torque: The amount of torque to apply to the ship, between -1 and 1.\\n      thrust: The amount of thrust to apply to the ship, between 0.0 and 1\\n  \"\"\"\\n  diff = goal - position\\n  angle_to_goal = np.arctan2(diff[1], diff[0])\\n  angle_diff = (angle_to_goal - orientation) % (2*np.pi)\\n  if angle_diff > np.pi:\\n    angle_diff -= 2 * np.pi\\n  torque = np.clip(angle_diff, -1, 1)\\n  distance = np.linalg.norm(diff)\\n  thrust = np.clip(distance, 0.0, 1.0)\\n  return torque, thrust\\n  '#51b0b9\n",
      "                                response:\n",
      "                                  -> Response#cc8427:\n",
      "                                    invokable: -> PolicyVisualizer()#812db9\n",
      "                                    output: -> Image(data=<16778 bytes>)#3d4c38\n",
      "                                    raised: None\n",
      "                                    raised_here: False\n",
      "                                    children: []\n",
      "                                timestamp_ns: 1690914724630756849\n",
      "                              -> Invocation#fbcc52:\n",
      "                                request:\n",
      "                                  -> Request#db0c30:\n",
      "                                    invokable:\n",
      "                                      -> RequestInput#9c306e:\n",
      "                                        requested_type: Str\n",
      "                                        context: 'Please critique the policy or leave empty if ok.'\n",
      "                                    input: -> Image(data=<16778 bytes>)#3d4c38\n",
      "                                response:\n",
      "                                  -> Response#363552:\n",
      "                                    invokable:\n",
      "                                      -> RequestInput#9c306e:\n",
      "                                        requested_type: Str\n",
      "                                        context: 'Please critique the policy or leave empty if ok.'\n",
      "                                    output: -> ''#dc1eb3\n",
      "                                    raised: None\n",
      "                                    raised_here: False\n",
      "                                    children: []\n",
      "                                timestamp_ns: 1690914724675307905]\n",
      "                      timestamp_ns: 1690914724675524066]\n",
      "            timestamp_ns: 1690914724675754477]\n",
      "  timestamp_ns: 1690914724675978712\n"
     ]
    }
   ],
   "source": [
    "with store:\n",
    "  reference = enact.Ref.from_id(digest_str)\n",
    "  enact.pprint(reference())"
   ]
  },
  {
   "cell_type": "code",
   "execution_count": 34,
   "metadata": {},
   "outputs": [
    {
     "data": {
      "text/plain": [
       "'import numpy as np\\nfrom typing import Tuple\\n\\ndef control(position: np.ndarray,\\n            goal: np.ndarray,\\n            orientation: float) -> Tuple[float, float]:\\n  \"\"\"Control an asteroids-style ship to move to a goal.\\n  \\n  Args:\\n    position: A 2D vector representing the position of the ship.\\n    goal: A 2D vector representing the position of the goal.\\n    orientation: A float representing the orientation of the ship in radians.\\n  Returns:\\n    A pair of floats representing:\\n      torque: The amount of torque to apply to the ship, between -1 and 1.\\n      thrust: The amount of thrust to apply to the ship, between 0.0 and 1\\n  \"\"\"\\n  diff = goal - position\\n  angle_to_goal = np.arctan2(diff[1], diff[0])\\n  angle_diff = (angle_to_goal - orientation) % (2*np.pi)\\n  if angle_diff > np.pi:\\n    angle_diff -= 2 * np.pi\\n  torque = np.clip(angle_diff, -1, 1)\\n  distance = np.linalg.norm(diff)\\n  thrust = np.clip(distance, 0.0, 1.0)\\n  return torque, thrust\\n  '"
      ]
     },
     "execution_count": 34,
     "metadata": {},
     "output_type": "execute_result"
    }
   ],
   "source": [
    "reference().response().output()"
   ]
  },
  {
   "cell_type": "code",
   "execution_count": 22,
   "metadata": {},
   "outputs": [
    {
     "name": "stdout",
     "output_type": "stream",
     "text": [
      "Response:\n",
      "  invokable:\n",
      "    -> CreatePolicy#b08e74:\n",
      "      code_gen:\n",
      "        Task:\n",
      "          task_prompt: '\\nWrite a concise python function with the following signature.\\nAnswer with a single code block.'\n",
      "          examples: [ TaskExample(input='```def add(x: int, y: int):\\n  <INSERT IMPLEMENTATION HERE>```', output='```python\\ndef add(x: int, y: int):\\n  return x + y\\n```')]\n",
      "          corrections: []\n",
      "          post_processor: -> PolicyChecker()#b4a2c7\n",
      "          max_retries: 10\n",
      "          chat_agent: GPTAgent(model='gpt-4')\n",
      "  output: None\n",
      "  raised:\n",
      "    -> InputRequest#28262e:\n",
      "      args:\n",
      "        [\n",
      "          -> RequestInput#9c306e:\n",
      "            requested_type: Str\n",
      "            context: 'Please critique the policy or leave empty if ok.'\n",
      "          -> Image(data=<16778 bytes>)#3d4c38\n",
      "          Str\n",
      "          'Please critique the policy or leave empty if ok.']\n",
      "  raised_here: False\n",
      "  children:\n",
      "    [\n",
      "      -> Invocation#4235d8:\n",
      "        request:\n",
      "          -> Request#814ab0:\n",
      "            invokable:\n",
      "              -> Task#5e59b1:\n",
      "                task_prompt: '\\nWrite a concise python function with the following signature.\\nAnswer with a single code block.'\n",
      "                examples: [ TaskExample(input='```def add(x: int, y: int):\\n  <INSERT IMPLEMENTATION HERE>```', output='```python\\ndef add(x: int, y: int):\\n  return x + y\\n```')]\n",
      "                corrections: []\n",
      "                post_processor: -> PolicyChecker()#b4a2c7\n",
      "                max_retries: 10\n",
      "                chat_agent: GPTAgent(model='gpt-4')\n",
      "            input: -> '\\n\\n```\\ndef control(position: np.ndarray,\\n            goal: np.ndarray,\\n            orientation: float) -> Tuple[float, float]\\n  \"\"\"Control an asteroids-style ship to move to a goal.\\n  \\n  Args:\\n    position: A 2D vector representing the position of the ship.\\n    goal: A 2D vector representing the position of the goal.\\n    orientation: A float representing the orientation of the ship in radians.\\n  Returns:\\n    A pair of floats representing:\\n      torque: The amount of torque to apply to the ship, between -1 and 1.\\n      thrust: The amount of thrust to apply to the ship, between 0.0 and 1\\n  \"\"\"\\n  <INSERT IMPLEMENTATION HERE>\\n```\\n'#6f863b\n",
      "        response:\n",
      "          -> Response#b5ad42:\n",
      "            invokable:\n",
      "              -> Task#5e59b1:\n",
      "                task_prompt: '\\nWrite a concise python function with the following signature.\\nAnswer with a single code block.'\n",
      "                examples: [ TaskExample(input='```def add(x: int, y: int):\\n  <INSERT IMPLEMENTATION HERE>```', output='```python\\ndef add(x: int, y: int):\\n  return x + y\\n```')]\n",
      "                corrections: []\n",
      "                post_processor: -> PolicyChecker()#b4a2c7\n",
      "                max_retries: 10\n",
      "                chat_agent: GPTAgent(model='gpt-4')\n",
      "            output: None\n",
      "            raised:\n",
      "              -> InputRequest#28262e:\n",
      "                args:\n",
      "                  [\n",
      "                    -> RequestInput#9c306e:\n",
      "                      requested_type: Str\n",
      "                      context: 'Please critique the policy or leave empty if ok.'\n",
      "                    -> Image(data=<16778 bytes>)#3d4c38\n",
      "                    Str\n",
      "                    'Please critique the policy or leave empty if ok.']\n",
      "            raised_here: False\n",
      "            children:\n",
      "              [\n",
      "                -> Invocation#b6f3cf:\n",
      "                  request:\n",
      "                    -> Request#ffd1be:\n",
      "                      invokable: -> GPTAgent(model='gpt-4')#d05f91\n",
      "                      input:\n",
      "                        -> Conversation#8bc41d:\n",
      "                          messages:\n",
      "                            [\n",
      "                              Message(role='system', content='Your job is to accomplish the following task. Adhere closely to the provided task description and examples (if provided).\\nTASK: \\nWrite a concise python function with the following signature.\\nAnswer with a single code block.')\n",
      "                              Message(role='system', content='The following is a list of examples.')\n",
      "                              Message(role='system', content='INPUT:')\n",
      "                              Message(role='system', content='```def add(x: int, y: int):\\n  <INSERT IMPLEMENTATION HERE>```')\n",
      "                              Message(role='system', content='OUTPUT:')\n",
      "                              Message(role='system', content='```python\\ndef add(x: int, y: int):\\n  return x + y\\n```')\n",
      "                              Message(role='system', content='START TASK:')\n",
      "                              Message(role='system', content='INPUT:')\n",
      "                              Message(role='system', content='\\n\\n```\\ndef control(position: np.ndarray,\\n            goal: np.ndarray,\\n            orientation: float) -> Tuple[float, float]\\n  \"\"\"Control an asteroids-style ship to move to a goal.\\n  \\n  Args:\\n    position: A 2D vector representing the position of the ship.\\n    goal: A 2D vector representing the position of the goal.\\n    orientation: A float representing the orientation of the ship in radians.\\n  Returns:\\n    A pair of floats representing:\\n      torque: The amount of torque to apply to the ship, between -1 and 1.\\n      thrust: The amount of thrust to apply to the ship, between 0.0 and 1\\n  \"\"\"\\n  <INSERT IMPLEMENTATION HERE>\\n```\\n')\n",
      "                              Message(role='system', content='OUTPUT:')]\n",
      "                  response:\n",
      "                    -> Response#523767:\n",
      "                      invokable: -> GPTAgent(model='gpt-4')#d05f91\n",
      "                      output: -> Message(role='assistant', content='```python\\nimport numpy as np\\nfrom typing import Tuple\\n\\ndef control(position: np.ndarray,\\n            goal: np.ndarray,\\n            orientation: float) -> Tuple[float, float]:\\n  \"\"\"Control an asteroids-style ship to move to a goal.\\n  \\n  Args:\\n    position: A 2D vector representing the position of the ship.\\n    goal: A 2D vector representing the position of the goal.\\n    orientation: A float representing the orientation of the ship in radians.\\n  Returns:\\n    A pair of floats representing:\\n      torque: The amount of torque to apply to the ship, between -1 and 1.\\n      thrust: The amount of thrust to apply to the ship, between 0.0 and 1\\n  \"\"\"\\n  diff = goal - position\\n  angle_to_goal = np.arctan2(diff[1], diff[0])\\n  angle_diff = (angle_to_goal - orientation) % (2*np.pi)\\n  if angle_diff > np.pi:\\n    angle_diff -= 2 * np.pi\\n  torque = np.clip(angle_diff, -1, 1)\\n  distance = np.linalg.norm(diff)\\n  thrust = np.clip(distance, 0.0, 1.0)\\n  return torque, thrust\\n  ```')#87ee16\n",
      "                      raised: None\n",
      "                      raised_here: False\n",
      "                      children: []\n",
      "                  timestamp_ns: 1690905556335252790\n",
      "                -> Invocation#07d049:\n",
      "                  request:\n",
      "                    -> Request#aecb67:\n",
      "                      invokable: -> PolicyChecker()#b4a2c7\n",
      "                      input: -> '```python\\nimport numpy as np\\nfrom typing import Tuple\\n\\ndef control(position: np.ndarray,\\n            goal: np.ndarray,\\n            orientation: float) -> Tuple[float, float]:\\n  \"\"\"Control an asteroids-style ship to move to a goal.\\n  \\n  Args:\\n    position: A 2D vector representing the position of the ship.\\n    goal: A 2D vector representing the position of the goal.\\n    orientation: A float representing the orientation of the ship in radians.\\n  Returns:\\n    A pair of floats representing:\\n      torque: The amount of torque to apply to the ship, between -1 and 1.\\n      thrust: The amount of thrust to apply to the ship, between 0.0 and 1\\n  \"\"\"\\n  diff = goal - position\\n  angle_to_goal = np.arctan2(diff[1], diff[0])\\n  angle_diff = (angle_to_goal - orientation) % (2*np.pi)\\n  if angle_diff > np.pi:\\n    angle_diff -= 2 * np.pi\\n  torque = np.clip(angle_diff, -1, 1)\\n  distance = np.linalg.norm(diff)\\n  thrust = np.clip(distance, 0.0, 1.0)\\n  return torque, thrust\\n  ```'#dfe9e0\n",
      "                  response:\n",
      "                    -> Response#d17429:\n",
      "                      invokable: -> PolicyChecker()#b4a2c7\n",
      "                      output: None\n",
      "                      raised:\n",
      "                        -> InputRequest#28262e:\n",
      "                          args:\n",
      "                            [\n",
      "                              -> RequestInput#9c306e:\n",
      "                                requested_type: Str\n",
      "                                context: 'Please critique the policy or leave empty if ok.'\n",
      "                              -> Image(data=<16778 bytes>)#3d4c38\n",
      "                              Str\n",
      "                              'Please critique the policy or leave empty if ok.']\n",
      "                      raised_here: False\n",
      "                      children:\n",
      "                        [\n",
      "                          -> Invocation#b0c267:\n",
      "                            request:\n",
      "                              -> Request#e0e369:\n",
      "                                invokable: -> PolicyVisualizer()#812db9\n",
      "                                input: -> 'import numpy as np\\nfrom typing import Tuple\\n\\ndef control(position: np.ndarray,\\n            goal: np.ndarray,\\n            orientation: float) -> Tuple[float, float]:\\n  \"\"\"Control an asteroids-style ship to move to a goal.\\n  \\n  Args:\\n    position: A 2D vector representing the position of the ship.\\n    goal: A 2D vector representing the position of the goal.\\n    orientation: A float representing the orientation of the ship in radians.\\n  Returns:\\n    A pair of floats representing:\\n      torque: The amount of torque to apply to the ship, between -1 and 1.\\n      thrust: The amount of thrust to apply to the ship, between 0.0 and 1\\n  \"\"\"\\n  diff = goal - position\\n  angle_to_goal = np.arctan2(diff[1], diff[0])\\n  angle_diff = (angle_to_goal - orientation) % (2*np.pi)\\n  if angle_diff > np.pi:\\n    angle_diff -= 2 * np.pi\\n  torque = np.clip(angle_diff, -1, 1)\\n  distance = np.linalg.norm(diff)\\n  thrust = np.clip(distance, 0.0, 1.0)\\n  return torque, thrust\\n  '#51b0b9\n",
      "                            response:\n",
      "                              -> Response#cc8427:\n",
      "                                invokable: -> PolicyVisualizer()#812db9\n",
      "                                output: -> Image(data=<16778 bytes>)#3d4c38\n",
      "                                raised: None\n",
      "                                raised_here: False\n",
      "                                children: []\n",
      "                            timestamp_ns: 1690905556616506094\n",
      "                          -> Invocation#7cae1e:\n",
      "                            request:\n",
      "                              -> Request#db0c30:\n",
      "                                invokable:\n",
      "                                  -> RequestInput#9c306e:\n",
      "                                    requested_type: Str\n",
      "                                    context: 'Please critique the policy or leave empty if ok.'\n",
      "                                input: -> Image(data=<16778 bytes>)#3d4c38\n",
      "                            response:\n",
      "                              -> Response#8c0162:\n",
      "                                invokable:\n",
      "                                  -> RequestInput#9c306e:\n",
      "                                    requested_type: Str\n",
      "                                    context: 'Please critique the policy or leave empty if ok.'\n",
      "                                output: None\n",
      "                                raised:\n",
      "                                  -> InputRequest#28262e:\n",
      "                                    args:\n",
      "                                      [\n",
      "                                        -> RequestInput#9c306e:\n",
      "                                          requested_type: Str\n",
      "                                          context: 'Please critique the policy or leave empty if ok.'\n",
      "                                        -> Image(data=<16778 bytes>)#3d4c38\n",
      "                                        Str\n",
      "                                        'Please critique the policy or leave empty if ok.']\n",
      "                                raised_here: True\n",
      "                                children: []\n",
      "                            timestamp_ns: 1690905556636012329]\n",
      "                  timestamp_ns: 1690905556636199329]\n",
      "        timestamp_ns: 1690905556636459071]\n"
     ]
    }
   ],
   "source": [
    "enact.pprint(reference().response())"
   ]
  },
  {
   "cell_type": "code",
   "execution_count": null,
   "metadata": {},
   "outputs": [],
   "source": [
    "reference().output()"
   ]
  },
  {
   "cell_type": "code",
   "execution_count": 25,
   "metadata": {},
   "outputs": [
    {
     "name": "stdout",
     "output_type": "stream",
     "text": [
      "-> Invocation#4235d8:\n",
      "  request:\n",
      "    -> Request#814ab0:\n",
      "      invokable:\n",
      "        -> Task#5e59b1:\n",
      "          task_prompt: '\\nWrite a concise python function with the following signature.\\nAnswer with a single code block.'\n",
      "          examples: [ TaskExample(input='```def add(x: int, y: int):\\n  <INSERT IMPLEMENTATION HERE>```', output='```python\\ndef add(x: int, y: int):\\n  return x + y\\n```')]\n",
      "          corrections: []\n",
      "          post_processor: -> PolicyChecker()#b4a2c7\n",
      "          max_retries: 10\n",
      "          chat_agent: GPTAgent(model='gpt-4')\n",
      "      input: -> '\\n\\n```\\ndef control(position: np.ndarray,\\n            goal: np.ndarray,\\n            orientation: float) -> Tuple[float, float]\\n  \"\"\"Control an asteroids-style ship to move to a goal.\\n  \\n  Args:\\n    position: A 2D vector representing the position of the ship.\\n    goal: A 2D vector representing the position of the goal.\\n    orientation: A float representing the orientation of the ship in radians.\\n  Returns:\\n    A pair of floats representing:\\n      torque: The amount of torque to apply to the ship, between -1 and 1.\\n      thrust: The amount of thrust to apply to the ship, between 0.0 and 1\\n  \"\"\"\\n  <INSERT IMPLEMENTATION HERE>\\n```\\n'#6f863b\n",
      "  response:\n",
      "    -> Response#b5ad42:\n",
      "      invokable:\n",
      "        -> Task#5e59b1:\n",
      "          task_prompt: '\\nWrite a concise python function with the following signature.\\nAnswer with a single code block.'\n",
      "          examples: [ TaskExample(input='```def add(x: int, y: int):\\n  <INSERT IMPLEMENTATION HERE>```', output='```python\\ndef add(x: int, y: int):\\n  return x + y\\n```')]\n",
      "          corrections: []\n",
      "          post_processor: -> PolicyChecker()#b4a2c7\n",
      "          max_retries: 10\n",
      "          chat_agent: GPTAgent(model='gpt-4')\n",
      "      output: None\n",
      "      raised:\n",
      "        -> InputRequest#28262e:\n",
      "          args:\n",
      "            [\n",
      "              -> RequestInput#9c306e:\n",
      "                requested_type: Str\n",
      "                context: 'Please critique the policy or leave empty if ok.'\n",
      "              -> Image(data=<16778 bytes>)#3d4c38\n",
      "              Str\n",
      "              'Please critique the policy or leave empty if ok.']\n",
      "      raised_here: False\n",
      "      children:\n",
      "        [\n",
      "          -> Invocation#b6f3cf:\n",
      "            request:\n",
      "              -> Request#ffd1be:\n",
      "                invokable: -> GPTAgent(model='gpt-4')#d05f91\n",
      "                input:\n",
      "                  -> Conversation#8bc41d:\n",
      "                    messages:\n",
      "                      [\n",
      "                        Message(role='system', content='Your job is to accomplish the following task. Adhere closely to the provided task description and examples (if provided).\\nTASK: \\nWrite a concise python function with the following signature.\\nAnswer with a single code block.')\n",
      "                        Message(role='system', content='The following is a list of examples.')\n",
      "                        Message(role='system', content='INPUT:')\n",
      "                        Message(role='system', content='```def add(x: int, y: int):\\n  <INSERT IMPLEMENTATION HERE>```')\n",
      "                        Message(role='system', content='OUTPUT:')\n",
      "                        Message(role='system', content='```python\\ndef add(x: int, y: int):\\n  return x + y\\n```')\n",
      "                        Message(role='system', content='START TASK:')\n",
      "                        Message(role='system', content='INPUT:')\n",
      "                        Message(role='system', content='\\n\\n```\\ndef control(position: np.ndarray,\\n            goal: np.ndarray,\\n            orientation: float) -> Tuple[float, float]\\n  \"\"\"Control an asteroids-style ship to move to a goal.\\n  \\n  Args:\\n    position: A 2D vector representing the position of the ship.\\n    goal: A 2D vector representing the position of the goal.\\n    orientation: A float representing the orientation of the ship in radians.\\n  Returns:\\n    A pair of floats representing:\\n      torque: The amount of torque to apply to the ship, between -1 and 1.\\n      thrust: The amount of thrust to apply to the ship, between 0.0 and 1\\n  \"\"\"\\n  <INSERT IMPLEMENTATION HERE>\\n```\\n')\n",
      "                        Message(role='system', content='OUTPUT:')]\n",
      "            response:\n",
      "              -> Response#523767:\n",
      "                invokable: -> GPTAgent(model='gpt-4')#d05f91\n",
      "                output: -> Message(role='assistant', content='```python\\nimport numpy as np\\nfrom typing import Tuple\\n\\ndef control(position: np.ndarray,\\n            goal: np.ndarray,\\n            orientation: float) -> Tuple[float, float]:\\n  \"\"\"Control an asteroids-style ship to move to a goal.\\n  \\n  Args:\\n    position: A 2D vector representing the position of the ship.\\n    goal: A 2D vector representing the position of the goal.\\n    orientation: A float representing the orientation of the ship in radians.\\n  Returns:\\n    A pair of floats representing:\\n      torque: The amount of torque to apply to the ship, between -1 and 1.\\n      thrust: The amount of thrust to apply to the ship, between 0.0 and 1\\n  \"\"\"\\n  diff = goal - position\\n  angle_to_goal = np.arctan2(diff[1], diff[0])\\n  angle_diff = (angle_to_goal - orientation) % (2*np.pi)\\n  if angle_diff > np.pi:\\n    angle_diff -= 2 * np.pi\\n  torque = np.clip(angle_diff, -1, 1)\\n  distance = np.linalg.norm(diff)\\n  thrust = np.clip(distance, 0.0, 1.0)\\n  return torque, thrust\\n  ```')#87ee16\n",
      "                raised: None\n",
      "                raised_here: False\n",
      "                children: []\n",
      "            timestamp_ns: 1690905556335252790\n",
      "          -> Invocation#07d049:\n",
      "            request:\n",
      "              -> Request#aecb67:\n",
      "                invokable: -> PolicyChecker()#b4a2c7\n",
      "                input: -> '```python\\nimport numpy as np\\nfrom typing import Tuple\\n\\ndef control(position: np.ndarray,\\n            goal: np.ndarray,\\n            orientation: float) -> Tuple[float, float]:\\n  \"\"\"Control an asteroids-style ship to move to a goal.\\n  \\n  Args:\\n    position: A 2D vector representing the position of the ship.\\n    goal: A 2D vector representing the position of the goal.\\n    orientation: A float representing the orientation of the ship in radians.\\n  Returns:\\n    A pair of floats representing:\\n      torque: The amount of torque to apply to the ship, between -1 and 1.\\n      thrust: The amount of thrust to apply to the ship, between 0.0 and 1\\n  \"\"\"\\n  diff = goal - position\\n  angle_to_goal = np.arctan2(diff[1], diff[0])\\n  angle_diff = (angle_to_goal - orientation) % (2*np.pi)\\n  if angle_diff > np.pi:\\n    angle_diff -= 2 * np.pi\\n  torque = np.clip(angle_diff, -1, 1)\\n  distance = np.linalg.norm(diff)\\n  thrust = np.clip(distance, 0.0, 1.0)\\n  return torque, thrust\\n  ```'#dfe9e0\n",
      "            response:\n",
      "              -> Response#d17429:\n",
      "                invokable: -> PolicyChecker()#b4a2c7\n",
      "                output: None\n",
      "                raised:\n",
      "                  -> InputRequest#28262e:\n",
      "                    args:\n",
      "                      [\n",
      "                        -> RequestInput#9c306e:\n",
      "                          requested_type: Str\n",
      "                          context: 'Please critique the policy or leave empty if ok.'\n",
      "                        -> Image(data=<16778 bytes>)#3d4c38\n",
      "                        Str\n",
      "                        'Please critique the policy or leave empty if ok.']\n",
      "                raised_here: False\n",
      "                children:\n",
      "                  [\n",
      "                    -> Invocation#b0c267:\n",
      "                      request:\n",
      "                        -> Request#e0e369:\n",
      "                          invokable: -> PolicyVisualizer()#812db9\n",
      "                          input: -> 'import numpy as np\\nfrom typing import Tuple\\n\\ndef control(position: np.ndarray,\\n            goal: np.ndarray,\\n            orientation: float) -> Tuple[float, float]:\\n  \"\"\"Control an asteroids-style ship to move to a goal.\\n  \\n  Args:\\n    position: A 2D vector representing the position of the ship.\\n    goal: A 2D vector representing the position of the goal.\\n    orientation: A float representing the orientation of the ship in radians.\\n  Returns:\\n    A pair of floats representing:\\n      torque: The amount of torque to apply to the ship, between -1 and 1.\\n      thrust: The amount of thrust to apply to the ship, between 0.0 and 1\\n  \"\"\"\\n  diff = goal - position\\n  angle_to_goal = np.arctan2(diff[1], diff[0])\\n  angle_diff = (angle_to_goal - orientation) % (2*np.pi)\\n  if angle_diff > np.pi:\\n    angle_diff -= 2 * np.pi\\n  torque = np.clip(angle_diff, -1, 1)\\n  distance = np.linalg.norm(diff)\\n  thrust = np.clip(distance, 0.0, 1.0)\\n  return torque, thrust\\n  '#51b0b9\n",
      "                      response:\n",
      "                        -> Response#cc8427:\n",
      "                          invokable: -> PolicyVisualizer()#812db9\n",
      "                          output: -> Image(data=<16778 bytes>)#3d4c38\n",
      "                          raised: None\n",
      "                          raised_here: False\n",
      "                          children: []\n",
      "                      timestamp_ns: 1690905556616506094\n",
      "                    -> Invocation#7cae1e:\n",
      "                      request:\n",
      "                        -> Request#db0c30:\n",
      "                          invokable:\n",
      "                            -> RequestInput#9c306e:\n",
      "                              requested_type: Str\n",
      "                              context: 'Please critique the policy or leave empty if ok.'\n",
      "                          input: -> Image(data=<16778 bytes>)#3d4c38\n",
      "                      response:\n",
      "                        -> Response#8c0162:\n",
      "                          invokable:\n",
      "                            -> RequestInput#9c306e:\n",
      "                              requested_type: Str\n",
      "                              context: 'Please critique the policy or leave empty if ok.'\n",
      "                          output: None\n",
      "                          raised:\n",
      "                            -> InputRequest#28262e:\n",
      "                              args:\n",
      "                                [\n",
      "                                  -> RequestInput#9c306e:\n",
      "                                    requested_type: Str\n",
      "                                    context: 'Please critique the policy or leave empty if ok.'\n",
      "                                  -> Image(data=<16778 bytes>)#3d4c38\n",
      "                                  Str\n",
      "                                  'Please critique the policy or leave empty if ok.']\n",
      "                          raised_here: True\n",
      "                          children: []\n",
      "                      timestamp_ns: 1690905556636012329]\n",
      "            timestamp_ns: 1690905556636199329]\n",
      "  timestamp_ns: 1690905556636459071\n"
     ]
    }
   ],
   "source": [
    "enact.pprint(reference().response().children[-1])"
   ]
  },
  {
   "cell_type": "code",
   "execution_count": 9,
   "metadata": {},
   "outputs": [
    {
     "ename": "AttributeError",
     "evalue": "'CreatePolicy' object has no attribute '__name__'",
     "output_type": "error",
     "traceback": [
      "\u001b[0;31m---------------------------------------------------------------------------\u001b[0m",
      "\u001b[0;31mAttributeError\u001b[0m                            Traceback (most recent call last)",
      "Cell \u001b[0;32mIn[9], line 1\u001b[0m\n\u001b[0;32m----> 1\u001b[0m ref\u001b[39m.\u001b[39;49mget()\u001b[39m.\u001b[39;49m\u001b[39m__name__\u001b[39;49m\n",
      "\u001b[0;31mAttributeError\u001b[0m: 'CreatePolicy' object has no attribute '__name__'"
     ]
    }
   ],
   "source": [
    "ref.get().__name__"
   ]
  },
  {
   "cell_type": "code",
   "execution_count": 7,
   "metadata": {},
   "outputs": [
    {
     "data": {
      "text/plain": [
       "'b08e74828f820f2a09f4e56cb5c9512b2327963acf1a2d608e5a10123baf10a3'"
      ]
     },
     "execution_count": 7,
     "metadata": {},
     "output_type": "execute_result"
    }
   ],
   "source": [
    "ref.digest"
   ]
  },
  {
   "cell_type": "code",
   "execution_count": null,
   "metadata": {},
   "outputs": [],
   "source": [
    "digest_str = \n",
    "ref_id_str = '{\"digest\": \"a1c474e023fc3a442a79f062c0eb927ff4d47fa37539f9098042b31f2f67c015\"}'\n",
    "with store:\n",
    "  reference = enact.Ref.from_id(ref_id_str)\n",
    "  enact.pprint(reference())"
   ]
  },
  {
   "cell_type": "code",
   "execution_count": 3,
   "metadata": {},
   "outputs": [],
   "source": [
    "single__soln = \"\"\"\n",
    "import numpy as np\n",
    "from typing import Tuple\n",
    "\n",
    "def control(position: np.ndarray,\n",
    "            goal: np.ndarray,\n",
    "            orientation: float) -> Tuple[float, float]:\n",
    "  \n",
    "  direction = np.arctan2(goal[1] - position[1], goal[0] - position[0])\n",
    "  torque = direction - orientation\n",
    "\n",
    "  while torque > np.pi: torque -= 2 * np.pi\n",
    "  while torque < -np.pi: torque += 2 * np.pi\n",
    "\n",
    "  torque = np.clip(torque, -1, 1)    \n",
    "\n",
    "  distance = np.linalg.norm(goal - position)\n",
    "\n",
    "  if distance > 1:\n",
    "    thrust = 1\n",
    "  else:\n",
    "    thrust = distance\n",
    "\n",
    "  return torque, thrust\n",
    "\"\"\""
   ]
  },
  {
   "cell_type": "code",
   "execution_count": null,
   "metadata": {},
   "outputs": [],
   "source": []
  },
  {
   "cell_type": "code",
   "execution_count": 13,
   "metadata": {},
   "outputs": [
    {
     "name": "stdout",
     "output_type": "stream",
     "text": [
      "{\"digest\": \"{\\\"digest\\\": \\\"2b70ac2a8795963a9816b78f9c72aecb14c237950939e627c86c165fc5522e35\\\"}\"}\n"
     ]
    },
    {
     "ename": "NotFound",
     "evalue": "{\"digest\": \"{\\\"digest\\\": \\\"2b70ac2a8795963a9816b78f9c72aecb14c237950939e627c86c165fc5522e35\\\"}\"}",
     "output_type": "error",
     "traceback": [
      "\u001b[0;31m---------------------------------------------------------------------------\u001b[0m",
      "\u001b[0;31mNotFound\u001b[0m                                  Traceback (most recent call last)",
      "Cell \u001b[0;32mIn[13], line 5\u001b[0m\n\u001b[1;32m      3\u001b[0m ref \u001b[39m=\u001b[39m enact\u001b[39m.\u001b[39mRef(res_id)\n\u001b[1;32m      4\u001b[0m \u001b[39mprint\u001b[39m(ref\u001b[39m.\u001b[39mid)\n\u001b[0;32m----> 5\u001b[0m \u001b[39mprint\u001b[39m(ref\u001b[39m.\u001b[39;49mget())\n",
      "File \u001b[0;32m~/Documents/enact/examples/../src/enact/references.py:106\u001b[0m, in \u001b[0;36mRef.get\u001b[0;34m(self)\u001b[0m\n\u001b[1;32m    104\u001b[0m \u001b[39m\u001b[39m\u001b[39m\"\"\"Fetches the resource from the cache or active store.\"\"\"\u001b[39;00m\n\u001b[1;32m    105\u001b[0m \u001b[39mif\u001b[39;00m \u001b[39mself\u001b[39m\u001b[39m.\u001b[39m_cached \u001b[39mis\u001b[39;00m \u001b[39mNone\u001b[39;00m \u001b[39mor\u001b[39;00m \u001b[39mself\u001b[39m\u001b[39m.\u001b[39mfrom_resource(\u001b[39mself\u001b[39m\u001b[39m.\u001b[39m_cached) \u001b[39m!=\u001b[39m \u001b[39mself\u001b[39m:\n\u001b[0;32m--> 106\u001b[0m   \u001b[39mself\u001b[39m\u001b[39m.\u001b[39m_cached \u001b[39m=\u001b[39m Store\u001b[39m.\u001b[39;49mcurrent()\u001b[39m.\u001b[39;49mget(\u001b[39mself\u001b[39;49m)\n\u001b[1;32m    107\u001b[0m \u001b[39mreturn\u001b[39;00m \u001b[39mself\u001b[39m\u001b[39m.\u001b[39m_cached\n",
      "File \u001b[0;32m~/Documents/enact/examples/../src/enact/references.py:284\u001b[0m, in \u001b[0;36mStore.get\u001b[0;34m(self, ref)\u001b[0m\n\u001b[1;32m    282\u001b[0m resource_data \u001b[39m=\u001b[39m \u001b[39mself\u001b[39m\u001b[39m.\u001b[39m_backend\u001b[39m.\u001b[39mget(ref)\n\u001b[1;32m    283\u001b[0m \u001b[39mif\u001b[39;00m resource_data \u001b[39mis\u001b[39;00m \u001b[39mNone\u001b[39;00m:\n\u001b[0;32m--> 284\u001b[0m   \u001b[39mraise\u001b[39;00m NotFound(ref\u001b[39m.\u001b[39mid)\n\u001b[1;32m    285\u001b[0m packed_resource \u001b[39m=\u001b[39m PackedResource(resource_data, ref\u001b[39m=\u001b[39mref)\n\u001b[1;32m    286\u001b[0m \u001b[39mreturn\u001b[39;00m ref\u001b[39m.\u001b[39munpack(packed_resource)\n",
      "\u001b[0;31mNotFound\u001b[0m: {\"digest\": \"{\\\"digest\\\": \\\"2b70ac2a8795963a9816b78f9c72aecb14c237950939e627c86c165fc5522e35\\\"}\"}"
     ]
    }
   ],
   "source": [
    "res_id = '{\"digest\": \"2b70ac2a8795963a9816b78f9c72aecb14c237950939e627c86c165fc5522e35\"}'\n",
    "with store:\n",
    "  ref = enact.Ref(res_id)\n",
    "  print(ref.id)\n",
    "  print(ref.get())"
   ]
  },
  {
   "cell_type": "code",
   "execution_count": 3,
   "metadata": {},
   "outputs": [
    {
     "data": {
      "text/plain": [
       "<Ref: b08e74828f820f2a09f4e56cb5c9512b2327963acf1a2d608e5a10123baf10a3>"
      ]
     },
     "execution_count": 3,
     "metadata": {},
     "output_type": "execute_result"
    }
   ],
   "source": [
    "ref"
   ]
  },
  {
   "cell_type": "code",
   "execution_count": 4,
   "metadata": {},
   "outputs": [
    {
     "data": {
      "text/plain": [
       "'023eb4b9ac93d3780977f682b183198e6b1d8027d26354a6d068fa3562d93ecf'"
      ]
     },
     "execution_count": 4,
     "metadata": {},
     "output_type": "execute_result"
    }
   ],
   "source": [
    "enact.digests.digest(ref.id)"
   ]
  },
  {
   "cell_type": "code",
   "execution_count": 5,
   "metadata": {},
   "outputs": [
    {
     "data": {
      "text/plain": [
       "<Ref: b08e74828f820f2a09f4e56cb5c9512b2327963acf1a2d608e5a10123baf10a3>"
      ]
     },
     "execution_count": 5,
     "metadata": {},
     "output_type": "execute_result"
    }
   ],
   "source": [
    "ref"
   ]
  },
  {
   "cell_type": "code",
   "execution_count": 6,
   "metadata": {},
   "outputs": [
    {
     "name": "stdout",
     "output_type": "stream",
     "text": [
      "CreatePolicy:\n",
      "  code_gen:\n",
      "    Task:\n",
      "      task_prompt: '\\nWrite a concise python function with the following signature.\\nAnswer with a single code block.'\n",
      "      examples: [ TaskExample(input='```def add(x: int, y: int):\\n  <INSERT IMPLEMENTATION HERE>```', output='```python\\ndef add(x: int, y: int):\\n  return x + y\\n```')]\n",
      "      corrections: []\n",
      "      post_processor: -> PolicyChecker()#b4a2c7\n",
      "      max_retries: 10\n",
      "      chat_agent: GPTAgent(model='gpt-4')\n"
     ]
    }
   ],
   "source": [
    "res = ref.get()\n",
    "enact.pprint(res)"
   ]
  },
  {
   "cell_type": "code",
   "execution_count": 7,
   "metadata": {},
   "outputs": [
    {
     "data": {
      "text/plain": [
       "Task(task_prompt='\\nWrite a concise python function with the following signature.\\nAnswer with a single code block.', examples=[TaskExample(input='```def add(x: int, y: int):\\n  <INSERT IMPLEMENTATION HERE>```', output='```python\\ndef add(x: int, y: int):\\n  return x + y\\n```')], corrections=[], post_processor=<Ref: b4a2c77e2d5e3e325ed9d46290d6e659fbd2c6913d4474a64a19adb0db46759f>, max_retries=10, chat_agent=GPTAgent(model='gpt-4'))"
      ]
     },
     "execution_count": 7,
     "metadata": {},
     "output_type": "execute_result"
    }
   ],
   "source": [
    "res.code_gen"
   ]
  },
  {
   "cell_type": "code",
   "execution_count": 8,
   "metadata": {},
   "outputs": [
    {
     "data": {
      "text/plain": [
       "[]"
      ]
     },
     "execution_count": 8,
     "metadata": {},
     "output_type": "execute_result"
    }
   ],
   "source": [
    "res.code_gen.corrections"
   ]
  },
  {
   "cell_type": "code",
   "execution_count": 33,
   "metadata": {},
   "outputs": [
    {
     "name": "stdout",
     "output_type": "stream",
     "text": [
      "'\\n\\n```\\ndef control(position: np.ndarray,\\n            goal: np.ndarray,\\n            orientation: float) -> Tuple[float, float]\\n  \"\"\"Control an asteroids-style ship to move to a goal.\\n  \\n  Args:\\n    position: A 2D vector representing the position of the ship.\\n    goal: A 2D vector representing the position of the goal.\\n    orientation: A float representing the orientation of the ship in radians.\\n  Returns:\\n    A pair of floats representing:\\n      torque: The amount of torque to apply to the ship, between -1 and 1.\\n      thrust: The amount of thrust to apply to the ship, between 0.0 and 1\\n  \"\"\"\\n  <INSERT IMPLEMENTATION HERE>\\n```\\n'\n"
     ]
    }
   ],
   "source": [
    "correction_str = res.code_gen.corrections[0].input\n",
    "enact.pprint(correction_str)"
   ]
  },
  {
   "cell_type": "code",
   "execution_count": 34,
   "metadata": {},
   "outputs": [
    {
     "ename": "SyntaxError",
     "evalue": "invalid syntax (<string>, line 3)",
     "output_type": "error",
     "traceback": [
      "Traceback \u001b[0;36m(most recent call last)\u001b[0m:\n",
      "\u001b[0m  File \u001b[1;32m~/Documents/enact/.venv/lib/python3.8/site-packages/IPython/core/interactiveshell.py:3508\u001b[0m in \u001b[1;35mrun_code\u001b[0m\n    exec(code_obj, self.user_global_ns, self.user_ns)\u001b[0m\n",
      "\u001b[0;36m  Cell \u001b[0;32mIn[34], line 1\u001b[0;36m\n\u001b[0;31m    exec(correction_str)\u001b[0;36m\n",
      "\u001b[0;36m  File \u001b[0;32m<string>:3\u001b[0;36m\u001b[0m\n\u001b[0;31m    ```\u001b[0m\n\u001b[0m    ^\u001b[0m\n\u001b[0;31mSyntaxError\u001b[0m\u001b[0;31m:\u001b[0m invalid syntax\n"
     ]
    }
   ],
   "source": [
    "exec(correction_str)"
   ]
  },
  {
   "cell_type": "code",
   "execution_count": 44,
   "metadata": {},
   "outputs": [
    {
     "data": {
      "text/plain": [
       "1"
      ]
     },
     "execution_count": 44,
     "metadata": {},
     "output_type": "execute_result"
    }
   ],
   "source": [
    "len(res.code_gen.corrections)"
   ]
  },
  {
   "cell_type": "code",
   "execution_count": 47,
   "metadata": {},
   "outputs": [
    {
     "data": {
      "text/plain": [
       "'```python\\ndef control(position: np.ndarray,\\n            goal: np.ndarray,\\n            orientation: float) -> Tuple[float, float]:\\n  direction_to_goal = goal - position\\n  angle_to_goal = np.arctan2(direction_to_goal[1], direction_to_goal[0])\\n  \\n  angle_difference = angle_to_goal - orientation\\n  \\n  if angle_difference > np.pi:\\n    angle_difference -= 2 * np.pi\\n  elif angle_difference < -np.pi:\\n    angle_difference += 2 * np.pi\\n    \\n  torque = np.clip(angle_difference, -1, 1)\\n  \\n  distance_to_goal = np.linalg.norm(direction_to_goal)\\n  \\n  thrust = np.clip(distance_to_goal / 20, 0, 1)\\n  \\n  return torque, thrust\\n```'"
      ]
     },
     "execution_count": 47,
     "metadata": {},
     "output_type": "execute_result"
    }
   ],
   "source": [
    "res.code_gen.corrections[0].output"
   ]
  },
  {
   "cell_type": "code",
   "execution_count": 48,
   "metadata": {},
   "outputs": [
    {
     "data": {
      "text/plain": [
       "enact.resource_types.Str"
      ]
     },
     "execution_count": 48,
     "metadata": {},
     "output_type": "execute_result"
    }
   ],
   "source": [
    "res.code_gen.get_output_type()"
   ]
  },
  {
   "cell_type": "code",
   "execution_count": 9,
   "metadata": {},
   "outputs": [
    {
     "data": {
      "text/plain": [
       "<Ref: b4a2c77e2d5e3e325ed9d46290d6e659fbd2c6913d4474a64a19adb0db46759f>"
      ]
     },
     "execution_count": 9,
     "metadata": {},
     "output_type": "execute_result"
    }
   ],
   "source": [
    "res.code_gen.post_processor"
   ]
  },
  {
   "cell_type": "code",
   "execution_count": 10,
   "metadata": {},
   "outputs": [
    {
     "data": {
      "text/plain": [
       "PolicyChecker()"
      ]
     },
     "execution_count": 10,
     "metadata": {},
     "output_type": "execute_result"
    }
   ],
   "source": [
    "pp_ref = res.code_gen.post_processor\n",
    "pp_ref.get()"
   ]
  },
  {
   "cell_type": "code",
   "execution_count": 53,
   "metadata": {},
   "outputs": [
    {
     "ename": "AttributeError",
     "evalue": "'PolicyChecker' object has no attribute 'output'",
     "output_type": "error",
     "traceback": [
      "\u001b[0;31m---------------------------------------------------------------------------\u001b[0m",
      "\u001b[0;31mAttributeError\u001b[0m                            Traceback (most recent call last)",
      "Cell \u001b[0;32mIn[53], line 1\u001b[0m\n\u001b[0;32m----> 1\u001b[0m pp_ref\u001b[39m.\u001b[39;49mget()\u001b[39m.\u001b[39;49moutput\n",
      "\u001b[0;31mAttributeError\u001b[0m: 'PolicyChecker' object has no attribute 'output'"
     ]
    }
   ],
   "source": [
    "pp_ref.get().output"
   ]
  },
  {
   "cell_type": "code",
   "execution_count": 55,
   "metadata": {},
   "outputs": [
    {
     "ename": "InputRequestOutsideInvocation",
     "evalue": "('Please critique the policy or leave empty if ok.', <class 'enact.resource_types.Str'>)",
     "output_type": "error",
     "traceback": [
      "\u001b[0;31m---------------------------------------------------------------------------\u001b[0m",
      "\u001b[0;31mInputRequestOutsideInvocation\u001b[0m             Traceback (most recent call last)",
      "Cell \u001b[0;32mIn[55], line 1\u001b[0m\n\u001b[0;32m----> 1\u001b[0m res\u001b[39m.\u001b[39;49mcall()\n",
      "Cell \u001b[0;32mIn[4], line 137\u001b[0m, in \u001b[0;36mCreatePolicy.call\u001b[0;34m(self)\u001b[0m\n\u001b[1;32m    136\u001b[0m \u001b[39mdef\u001b[39;00m \u001b[39mcall\u001b[39m(\u001b[39mself\u001b[39m):\n\u001b[0;32m--> 137\u001b[0m   \u001b[39mreturn\u001b[39;00m \u001b[39mself\u001b[39;49m\u001b[39m.\u001b[39;49mcode_gen(enact\u001b[39m.\u001b[39;49mStr(code_gen_prompt))\n",
      "File \u001b[0;32m~/Documents/enact/examples/../src/enact/invocations.py:487\u001b[0m, in \u001b[0;36mInvokableBase.__call__\u001b[0;34m(self, *args, **kwargs)\u001b[0m\n\u001b[1;32m    485\u001b[0m \u001b[39m# Execution not tracked, so just call the invokable.\u001b[39;00m\n\u001b[1;32m    486\u001b[0m \u001b[39mif\u001b[39;00m \u001b[39mnot\u001b[39;00m parent:\n\u001b[0;32m--> 487\u001b[0m   \u001b[39mreturn\u001b[39;00m ReplayContext\u001b[39m.\u001b[39;49mcall_or_replay(\u001b[39mself\u001b[39;49m, arg)\n\u001b[1;32m    489\u001b[0m builder \u001b[39m=\u001b[39m Builder(\u001b[39mself\u001b[39m, references\u001b[39m.\u001b[39mcommit(arg))\n\u001b[1;32m    490\u001b[0m output \u001b[39m=\u001b[39m builder\u001b[39m.\u001b[39mcall()\n",
      "File \u001b[0;32m~/Documents/enact/examples/../src/enact/invocations.py:306\u001b[0m, in \u001b[0;36mReplayContext.call_or_replay\u001b[0;34m(cls, invokable, arg)\u001b[0m\n\u001b[1;32m    304\u001b[0m     \u001b[39mwith\u001b[39;00m child_ctx:\n\u001b[1;32m    305\u001b[0m       \u001b[39mreturn\u001b[39;00m call(arg)\n\u001b[0;32m--> 306\u001b[0m \u001b[39mreturn\u001b[39;00m call(arg)\n",
      "File \u001b[0;32m~/Documents/enact/examples/llm_task.py:113\u001b[0m, in \u001b[0;36mTask.call\u001b[0;34m(self, input)\u001b[0m\n\u001b[1;32m    111\u001b[0m output \u001b[39m=\u001b[39m \u001b[39mself\u001b[39m\u001b[39m.\u001b[39mattempt(\u001b[39minput\u001b[39m)\n\u001b[1;32m    112\u001b[0m \u001b[39mif\u001b[39;00m \u001b[39mself\u001b[39m\u001b[39m.\u001b[39mpost_processor:\n\u001b[0;32m--> 113\u001b[0m   processed_output \u001b[39m=\u001b[39m \u001b[39mself\u001b[39;49m\u001b[39m.\u001b[39;49mpost_processor()(output)\n\u001b[1;32m    114\u001b[0m   \u001b[39mif\u001b[39;00m \u001b[39mnot\u001b[39;00m processed_output\u001b[39m.\u001b[39mcorrection:\n\u001b[1;32m    115\u001b[0m     \u001b[39mreturn\u001b[39;00m enact\u001b[39m.\u001b[39mStr(processed_output\u001b[39m.\u001b[39moutput)\n",
      "File \u001b[0;32m~/Documents/enact/examples/../src/enact/invocations.py:487\u001b[0m, in \u001b[0;36mInvokableBase.__call__\u001b[0;34m(self, *args, **kwargs)\u001b[0m\n\u001b[1;32m    485\u001b[0m \u001b[39m# Execution not tracked, so just call the invokable.\u001b[39;00m\n\u001b[1;32m    486\u001b[0m \u001b[39mif\u001b[39;00m \u001b[39mnot\u001b[39;00m parent:\n\u001b[0;32m--> 487\u001b[0m   \u001b[39mreturn\u001b[39;00m ReplayContext\u001b[39m.\u001b[39;49mcall_or_replay(\u001b[39mself\u001b[39;49m, arg)\n\u001b[1;32m    489\u001b[0m builder \u001b[39m=\u001b[39m Builder(\u001b[39mself\u001b[39m, references\u001b[39m.\u001b[39mcommit(arg))\n\u001b[1;32m    490\u001b[0m output \u001b[39m=\u001b[39m builder\u001b[39m.\u001b[39mcall()\n",
      "File \u001b[0;32m~/Documents/enact/examples/../src/enact/invocations.py:306\u001b[0m, in \u001b[0;36mReplayContext.call_or_replay\u001b[0;34m(cls, invokable, arg)\u001b[0m\n\u001b[1;32m    304\u001b[0m     \u001b[39mwith\u001b[39;00m child_ctx:\n\u001b[1;32m    305\u001b[0m       \u001b[39mreturn\u001b[39;00m call(arg)\n\u001b[0;32m--> 306\u001b[0m \u001b[39mreturn\u001b[39;00m call(arg)\n",
      "Cell \u001b[0;32mIn[4], line 113\u001b[0m, in \u001b[0;36mPolicyChecker.call\u001b[0;34m(self, input)\u001b[0m\n\u001b[1;32m    109\u001b[0m \u001b[39mexcept\u001b[39;00m \u001b[39mTypeError\u001b[39;00m:\n\u001b[1;32m    110\u001b[0m   \u001b[39mreturn\u001b[39;00m llm_task\u001b[39m.\u001b[39mProcessedOutput(\n\u001b[1;32m    111\u001b[0m     output\u001b[39m=\u001b[39m\u001b[39mNone\u001b[39;00m,\n\u001b[1;32m    112\u001b[0m     correction\u001b[39m=\u001b[39m\u001b[39m'\u001b[39m\u001b[39mYour code could not be unpacked into two float values.\u001b[39m\u001b[39m'\u001b[39m)\n\u001b[0;32m--> 113\u001b[0m critique \u001b[39m=\u001b[39m enact\u001b[39m.\u001b[39;49mRequestInput(enact\u001b[39m.\u001b[39;49mStr, \u001b[39m'\u001b[39;49m\u001b[39mPlease critique the policy or leave empty if ok.\u001b[39;49m\u001b[39m'\u001b[39;49m)(\n\u001b[1;32m    114\u001b[0m   PolicyVisualizer()(enact\u001b[39m.\u001b[39;49mStr(code)))\n\u001b[1;32m    116\u001b[0m \u001b[39mif\u001b[39;00m critique \u001b[39m!=\u001b[39m \u001b[39m'\u001b[39m\u001b[39m'\u001b[39m:\n\u001b[1;32m    117\u001b[0m   \u001b[39mreturn\u001b[39;00m llm_task\u001b[39m.\u001b[39mProcessedOutput(\n\u001b[1;32m    118\u001b[0m     output\u001b[39m=\u001b[39m\u001b[39mNone\u001b[39;00m, correction\u001b[39m=\u001b[39m\u001b[39mf\u001b[39m\u001b[39m'\u001b[39m\u001b[39mUser critique: \u001b[39m\u001b[39m{\u001b[39;00mcritique\u001b[39m}\u001b[39;00m\u001b[39m'\u001b[39m)\n",
      "File \u001b[0;32m~/Documents/enact/examples/../src/enact/invocations.py:487\u001b[0m, in \u001b[0;36mInvokableBase.__call__\u001b[0;34m(self, *args, **kwargs)\u001b[0m\n\u001b[1;32m    485\u001b[0m \u001b[39m# Execution not tracked, so just call the invokable.\u001b[39;00m\n\u001b[1;32m    486\u001b[0m \u001b[39mif\u001b[39;00m \u001b[39mnot\u001b[39;00m parent:\n\u001b[0;32m--> 487\u001b[0m   \u001b[39mreturn\u001b[39;00m ReplayContext\u001b[39m.\u001b[39;49mcall_or_replay(\u001b[39mself\u001b[39;49m, arg)\n\u001b[1;32m    489\u001b[0m builder \u001b[39m=\u001b[39m Builder(\u001b[39mself\u001b[39m, references\u001b[39m.\u001b[39mcommit(arg))\n\u001b[1;32m    490\u001b[0m output \u001b[39m=\u001b[39m builder\u001b[39m.\u001b[39mcall()\n",
      "File \u001b[0;32m~/Documents/enact/examples/../src/enact/invocations.py:306\u001b[0m, in \u001b[0;36mReplayContext.call_or_replay\u001b[0;34m(cls, invokable, arg)\u001b[0m\n\u001b[1;32m    304\u001b[0m     \u001b[39mwith\u001b[39;00m child_ctx:\n\u001b[1;32m    305\u001b[0m       \u001b[39mreturn\u001b[39;00m call(arg)\n\u001b[0;32m--> 306\u001b[0m \u001b[39mreturn\u001b[39;00m call(arg)\n",
      "File \u001b[0;32m~/Documents/enact/examples/../src/enact/invocations.py:576\u001b[0m, in \u001b[0;36mRequestInput.call\u001b[0;34m(self, resource)\u001b[0m\n\u001b[1;32m    575\u001b[0m \u001b[39mdef\u001b[39;00m \u001b[39mcall\u001b[39m(\u001b[39mself\u001b[39m, resource: interfaces\u001b[39m.\u001b[39mResourceBase) \u001b[39m-\u001b[39m\u001b[39m>\u001b[39m interfaces\u001b[39m.\u001b[39mResourceBase:\n\u001b[0;32m--> 576\u001b[0m   request_input(\u001b[39mself\u001b[39;49m\u001b[39m.\u001b[39;49mrequested_type, \u001b[39mself\u001b[39;49m\u001b[39m.\u001b[39;49mcontext)\n\u001b[1;32m    577\u001b[0m   \u001b[39massert\u001b[39;00m \u001b[39mFalse\u001b[39;00m\n",
      "File \u001b[0;32m~/Documents/enact/examples/../src/enact/invocations.py:157\u001b[0m, in \u001b[0;36mrequest_input\u001b[0;34m(requested_type, context)\u001b[0m\n\u001b[1;32m    155\u001b[0m builder: Optional[Builder] \u001b[39m=\u001b[39m Builder\u001b[39m.\u001b[39mget_current()\n\u001b[1;32m    156\u001b[0m \u001b[39mif\u001b[39;00m \u001b[39mnot\u001b[39;00m builder:\n\u001b[0;32m--> 157\u001b[0m   \u001b[39mraise\u001b[39;00m InputRequestOutsideInvocation(context, requested_type)\n\u001b[1;32m    158\u001b[0m requested_type \u001b[39m=\u001b[39m requested_type \u001b[39mor\u001b[39;00m builder\u001b[39m.\u001b[39minvokable\u001b[39m.\u001b[39mget_output_type()\n\u001b[1;32m    159\u001b[0m \u001b[39mif\u001b[39;00m \u001b[39mnot\u001b[39;00m requested_type:\n",
      "\u001b[0;31mInputRequestOutsideInvocation\u001b[0m: ('Please critique the policy or leave empty if ok.', <class 'enact.resource_types.Str'>)"
     ]
    }
   ],
   "source": [
    "res.call()"
   ]
  },
  {
   "cell_type": "code",
   "execution_count": 56,
   "metadata": {},
   "outputs": [
    {
     "data": {
      "text/plain": [
       "CreatePolicy(code_gen=Task(task_prompt='\\nWrite a concise python function with the following signature.\\nAnswer with a single code block.', examples=[TaskExample(input='```def add(x: int, y: int):\\n  <INSERT IMPLEMENTATION HERE>```', output='```python\\ndef add(x: int, y: int):\\n  return x + y\\n```')], corrections=[Correction(input='\\n\\n```\\ndef control(position: np.ndarray,\\n            goal: np.ndarray,\\n            orientation: float) -> Tuple[float, float]\\n  \"\"\"Control an asteroids-style ship to move to a goal.\\n  \\n  Args:\\n    position: A 2D vector representing the position of the ship.\\n    goal: A 2D vector representing the position of the goal.\\n    orientation: A float representing the orientation of the ship in radians.\\n  Returns:\\n    A pair of floats representing:\\n      torque: The amount of torque to apply to the ship, between -1 and 1.\\n      thrust: The amount of thrust to apply to the ship, between 0.0 and 1\\n  \"\"\"\\n  <INSERT IMPLEMENTATION HERE>\\n```\\n', output='```python\\ndef control(position: np.ndarray,\\n            goal: np.ndarray,\\n            orientation: float) -> Tuple[float, float]:\\n  direction_to_goal = goal - position\\n  angle_to_goal = np.arctan2(direction_to_goal[1], direction_to_goal[0])\\n  \\n  angle_difference = angle_to_goal - orientation\\n  \\n  if angle_difference > np.pi:\\n    angle_difference -= 2 * np.pi\\n  elif angle_difference < -np.pi:\\n    angle_difference += 2 * np.pi\\n    \\n  torque = np.clip(angle_difference, -1, 1)\\n  \\n  distance_to_goal = np.linalg.norm(direction_to_goal)\\n  \\n  thrust = np.clip(distance_to_goal / 20, 0, 1)\\n  \\n  return torque, thrust\\n```', correction='Your code raised an exception while parsing: name \\'np\\' is not defined\\nTraceback (most recent call last):\\n  File \"/tmp/ipykernel_981521/299658125.py\", line 89, in call\\n    exec(code, def_dict)\\n  File \"<string>\", line 1, in <module>\\nNameError: name \\'np\\' is not defined\\n')], post_processor=<Ref: b4a2c77e2d5e3e325ed9d46290d6e659fbd2c6913d4474a64a19adb0db46759f>, max_retries=10, chat_agent=GPTAgent(model='gpt-4')))"
      ]
     },
     "execution_count": 56,
     "metadata": {},
     "output_type": "execute_result"
    }
   ],
   "source": [
    "res"
   ]
  },
  {
   "cell_type": "code",
   "execution_count": 11,
   "metadata": {},
   "outputs": [
    {
     "data": {
      "text/plain": [
       "<Ref: b4a2c77e2d5e3e325ed9d46290d6e659fbd2c6913d4474a64a19adb0db46759f>"
      ]
     },
     "execution_count": 11,
     "metadata": {},
     "output_type": "execute_result"
    }
   ],
   "source": [
    "post_processor_ref"
   ]
  },
  {
   "cell_type": "code",
   "execution_count": 16,
   "metadata": {},
   "outputs": [
    {
     "name": "stdout",
     "output_type": "stream",
     "text": [
      "PolicyChecker()\n"
     ]
    }
   ],
   "source": [
    "pp_res = post_processor_ref.get()\n",
    "enact.pprint(pp_res)"
   ]
  },
  {
   "cell_type": "code",
   "execution_count": 19,
   "metadata": {},
   "outputs": [
    {
     "data": {
      "text/plain": [
       "ProcessedOutput(output=None, correction='Input must start with \"```\".')"
      ]
     },
     "execution_count": 19,
     "metadata": {},
     "output_type": "execute_result"
    }
   ],
   "source": [
    "pp_res.call('hello')"
   ]
  },
  {
   "cell_type": "code",
   "execution_count": 20,
   "metadata": {},
   "outputs": [
    {
     "ename": "AttributeError",
     "evalue": "'PolicyChecker' object has no attribute 'response'",
     "output_type": "error",
     "traceback": [
      "\u001b[0;31m---------------------------------------------------------------------------\u001b[0m",
      "\u001b[0;31mAttributeError\u001b[0m                            Traceback (most recent call last)",
      "Cell \u001b[0;32mIn[20], line 1\u001b[0m\n\u001b[0;32m----> 1\u001b[0m pp_res\u001b[39m.\u001b[39;49mresponse()\n",
      "\u001b[0;31mAttributeError\u001b[0m: 'PolicyChecker' object has no attribute 'response'"
     ]
    }
   ],
   "source": [
    "pp_res.response()"
   ]
  },
  {
   "cell_type": "code",
   "execution_count": 21,
   "metadata": {},
   "outputs": [
    {
     "ename": "AttributeError",
     "evalue": "'Ref' object has no attribute 'response'",
     "output_type": "error",
     "traceback": [
      "\u001b[0;31m---------------------------------------------------------------------------\u001b[0m",
      "\u001b[0;31mAttributeError\u001b[0m                            Traceback (most recent call last)",
      "Cell \u001b[0;32mIn[21], line 1\u001b[0m\n\u001b[0;32m----> 1\u001b[0m ref\u001b[39m.\u001b[39;49mresponse()\n",
      "\u001b[0;31mAttributeError\u001b[0m: 'Ref' object has no attribute 'response'"
     ]
    }
   ],
   "source": [
    "ref.response()"
   ]
  },
  {
   "cell_type": "code",
   "execution_count": 22,
   "metadata": {},
   "outputs": [
    {
     "name": "stdout",
     "output_type": "stream",
     "text": [
      "-> CreatePolicy#b08e74:\n",
      "  code_gen:\n",
      "    Task:\n",
      "      task_prompt: '\\nWrite a concise python function with the following signature.\\nAnswer with a single code block.'\n",
      "      examples: [ TaskExample(input='```def add(x: int, y: int):\\n  <INSERT IMPLEMENTATION HERE>```', output='```python\\ndef add(x: int, y: int):\\n  return x + y\\n```')]\n",
      "      corrections: []\n",
      "      post_processor: -> PolicyChecker()#b4a2c7\n",
      "      max_retries: 10\n",
      "      chat_agent: GPTAgent(model='gpt-4')\n"
     ]
    }
   ],
   "source": [
    "enact.pprint(ref)"
   ]
  },
  {
   "cell_type": "code",
   "execution_count": 24,
   "metadata": {},
   "outputs": [],
   "source": [
    "res = ref.get()"
   ]
  },
  {
   "cell_type": "code",
   "execution_count": 28,
   "metadata": {},
   "outputs": [
    {
     "data": {
      "text/plain": [
       "<generator object Resource.field_names.<locals>.<genexpr> at 0x7f798496f0b0>"
      ]
     },
     "execution_count": 28,
     "metadata": {},
     "output_type": "execute_result"
    }
   ],
   "source": [
    "res.code_gen.chat_agent.field_names()"
   ]
  },
  {
   "cell_type": "code",
   "execution_count": null,
   "metadata": {},
   "outputs": [],
   "source": []
  }
 ],
 "metadata": {
  "kernelspec": {
   "display_name": ".venv",
   "language": "python",
   "name": "python3"
  },
  "language_info": {
   "codemirror_mode": {
    "name": "ipython",
    "version": 3
   },
   "file_extension": ".py",
   "mimetype": "text/x-python",
   "name": "python",
   "nbconvert_exporter": "python",
   "pygments_lexer": "ipython3",
   "version": "3.8.10"
  },
  "orig_nbformat": 4
 },
 "nbformat": 4,
 "nbformat_minor": 2
}
