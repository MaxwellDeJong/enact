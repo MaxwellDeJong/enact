{
 "cells": [
  {
   "cell_type": "code",
   "execution_count": null,
   "metadata": {},
   "outputs": [],
   "source": [
    "soln = '''\n",
    "import numpy as np\n",
    "from typing import Tuple\n",
    "\n",
    "def control_one_goal(position: np.ndarray,\n",
    "                     goal: np.ndarray,\n",
    "                     orientation: float) -> Tuple[float, float]:\n",
    "  \n",
    "  direction_to_goal = np.arctan2(goal[1] - position[1], goal[0] - position[0])\n",
    "  difference_in_orientation = direction_to_goal - orientation\n",
    "  normalized_difference = (difference_in_orientation + np.pi) % (2 * np.pi) - np.pi\n",
    "  \n",
    "  torque = np.clip(-2. * normalized_difference, -1., 1.)  # Sign flipped here for correct orientation\n",
    "  \n",
    "  distance_to_goal = np.linalg.norm(goal - position)\n",
    "  if distance_to_goal < 0.5:\n",
    "    thrust = 0.0\n",
    "  else:\n",
    "    thrust = min(distance_to_goal / 10., 1.)\n",
    "  \n",
    "  return torque, thrust\n",
    "'''"
   ]
  },
  {
   "cell_type": "code",
   "execution_count": 1,
   "metadata": {},
   "outputs": [],
   "source": [
    "import dataclasses\n",
    "\n",
    "import numpy as np\n",
    "\n",
    "import chat\n",
    "import llm_task\n",
    "import enact\n",
    "import demo_utils\n",
    "import asteroids_2goal as asteroids\n"
   ]
  },
  {
   "cell_type": "code",
   "execution_count": 2,
   "metadata": {},
   "outputs": [
    {
     "name": "stdout",
     "output_type": "stream",
     "text": [
      "import numpy as np\n",
      "from typing import Tuple\n",
      "\n",
      "def control_one_goal(position: np.ndarray, goal: np.ndarray, orientation: float) -> Tuple[float, float]:\n",
      "  \"\"\"Control an asteroids-style ship to move to a goal.\n",
      "  \n",
      "  Args:\n",
      "    position: A 2D vector representing the position of the ship.\n",
      "    goal: A 2D vector representing the position of the goal.\n",
      "    orientation: A float representing the orientation of the ship in radians.\n",
      "  Returns:\n",
      "    A pair of floats representing:\n",
      "      torque: The amount of torque to apply to the ship, between -1 and 1.\n",
      "      thrust: The amount of thrust to apply to the ship, between 0.0 and 1\n",
      "  \"\"\"\n",
      "  \n",
      "  direction_to_goal = np.arctan2(goal[1] - position[1], goal[0] - position[0])\n",
      "  difference_in_orientation = direction_to_goal - orientation\n",
      "  \n",
      "  torque = np.sin(difference_in_orientation)\n",
      "  distance_to_goal = np.linalg.norm(goal - position)\n",
      "  thrust = 1.0 if distance_to_goal > 0.1 else 0.0\n",
      "  \n",
      "  return torque, thrust\n",
      "\n"
     ]
    }
   ],
   "source": [
    "store = enact.Store(backend=enact.FileBackend('/home/max/Documents/enact/examples/store_backend/'))\n",
    "digest_str = '{\"digest\": \"f3dc94bd19ee3f5cbd555047a34a998d7c3d02c7c92587e10c6e474f59921685\"}'\n",
    "\n",
    "with store:\n",
    "  reference = enact.Ref.from_id(digest_str)\n",
    "  soln_string = reference().response().output()\n",
    "\n",
    "print(soln_string)"
   ]
  },
  {
   "cell_type": "code",
   "execution_count": 3,
   "metadata": {},
   "outputs": [],
   "source": [
    "task_prompt = '''\n",
    "Write a concise python function with the following signature.\n",
    "Answer with a single code block. Call the existing function \n",
    "control_one_goal, which has the following signature:\n",
    "\n",
    "```\n",
    "def control_one_goal(position: np.ndarray,\n",
    "                     goal: np.ndarray,\n",
    "                     orientation: float) -> Tuple[float, float]\n",
    "  \"\"\"Control an asteroids-style ship to move to a goal.\n",
    "  \n",
    "  Args:\n",
    "    position: A 2D vector representing the position of the ship.\n",
    "    goal: A 2D vector representing the position of the goal.\n",
    "    orientation: A float representing the orientation of the ship in radians.\n",
    "  Returns:\n",
    "    A pair of floats representing:\n",
    "      torque: The amount of torque to apply to the ship, between -1 and 1.\n",
    "      thrust: The amount of thrust to apply to the ship, between 0.0 and 1\n",
    "```\n",
    "\n",
    "Note that this function requires importing numpy as np as well as Tuple from\n",
    "typing. Do not create a stub for control_one_goal but assume that it is defined\n",
    "and callable.'''\n",
    "\n",
    "code_gen_prompt = '''\n",
    "\n",
    "```\n",
    "def control(position: np.ndarray,\n",
    "            goal1: np.ndarray,\n",
    "            has_reached_goal1: bool,\n",
    "            goal2: np.ndarray,\n",
    "            has_reached_goal2: bool,\n",
    "            orientation: float) -> Tuple[float, float]:\n",
    "  \"\"\"Control an asteroids-style ship to move to both goals.\n",
    "  \n",
    "  Args:\n",
    "    position: A 2D vector representing the position of the ship.\n",
    "    goal1: A 2D vector representing the position of the first goal.\n",
    "    has_reached_goal1: Boolean representing whether the first goal has been reached.\n",
    "    goal2: A 2D vector representing the position of the second goal.\n",
    "    has_reached_goal2: Boolean representing whether the second goal has been reached.\n",
    "    orientation: A float representing the orientation of the ship in radians.\n",
    "  Returns:\n",
    "    A pair of floats representing:\n",
    "      torque: The amount of torque to apply to the ship, between -1 and 1.\n",
    "      thrust: The amount of thrust to apply to the ship, between 0.0 and 1\n",
    "  \"\"\"\n",
    "  <INSERT IMPLEMENTATION HERE>\n",
    "```\n",
    "'''\n",
    "\n",
    "code_gen = llm_task.Task(\n",
    "  task_prompt=task_prompt,\n",
    "  chat_agent=chat.GPTAgent(model='gpt-4'))\n",
    "code_gen.add_example(\n",
    "  '''```def add(x: int, y: int):\\n  <INSERT IMPLEMENTATION HERE>```''',\n",
    "  '''```python\\ndef add(x: int, y: int):\\n  return x + y\\n```''')\n",
    "\n",
    "@enact.typed_invokable(enact.NoneResource, enact.Str)\n",
    "@dataclasses.dataclass\n",
    "class CreatePolicy(enact.Invokable):\n",
    "  code_gen: llm_task.Task\n",
    "  \n",
    "  def call(self):\n",
    "    return self.code_gen(enact.Str(code_gen_prompt))\n",
    "\n",
    "\n",
    "sample_input = (np.zeros((2,)), np.zeros((2,)), False, np.zeros((2,)), False, 0.0)\n",
    "\n",
    "PolicyChecker = demo_utils.get_policy_checker(asteroids.Action,\n",
    "                                              asteroids.create_trajectory,\n",
    "                                              asteroids.plot_trajectory,\n",
    "                                              sample_input,\n",
    "                                              func_name='control',\n",
    "                                              code_reference=soln_string)\n",
    "\n",
    "store = enact.Store(backend=enact.FileBackend('/home/max/Documents/enact/examples/store_backend/'))\n",
    "store = enact.Store()\n",
    "with store:\n",
    "  post_processor_ref = enact.commit(PolicyChecker())\n",
    "  code_gen.post_processor = post_processor_ref\n",
    "  code_gen.max_retries = 2\n",
    "  create_policy = CreatePolicy(code_gen)\n"
   ]
  },
  {
   "cell_type": "code",
   "execution_count": 4,
   "metadata": {},
   "outputs": [
    {
     "name": "stdout",
     "output_type": "stream",
     "text": [
      "Running on local URL:  http://127.0.0.1:7862\n",
      "Running on public URL: https://955f605edd3b6e3bfe.gradio.live\n",
      "\n",
      "This share link expires in 72 hours. For free permanent hosting and GPU upgrades, run `gradio deploy` from Terminal to deploy to Spaces (https://huggingface.co/spaces)\n"
     ]
    },
    {
     "data": {
      "text/html": [
       "<div><iframe src=\"https://955f605edd3b6e3bfe.gradio.live\" width=\"100%\" height=\"500\" allow=\"autoplay; camera; microphone; clipboard-read; clipboard-write;\" frameborder=\"0\" allowfullscreen></iframe></div>"
      ],
      "text/plain": [
       "<IPython.core.display.HTML object>"
      ]
     },
     "metadata": {},
     "output_type": "display_data"
    },
    {
     "name": "stdout",
     "output_type": "stream",
     "text": [
      "Keyboard interruption in main thread... closing server.\n",
      "Killing tunnel 127.0.0.1:7862 <> https://955f605edd3b6e3bfe.gradio.live\n"
     ]
    }
   ],
   "source": [
    "import enact.gradio as gradio\n",
    "\n",
    "with store:\n",
    "  gui = gradio.gradio.GUI(\n",
    "    enact.commit(create_policy),\n",
    "    input_required_outputs=[enact.Image],\n",
    "    input_required_inputs=[enact.Str])\n",
    "  gui.launch(share=True, debug=True)"
   ]
  }
 ],
 "metadata": {
  "kernelspec": {
   "display_name": ".venv",
   "language": "python",
   "name": "python3"
  },
  "language_info": {
   "codemirror_mode": {
    "name": "ipython",
    "version": 3
   },
   "file_extension": ".py",
   "mimetype": "text/x-python",
   "name": "python",
   "nbconvert_exporter": "python",
   "pygments_lexer": "ipython3",
   "version": "3.8.10"
  },
  "orig_nbformat": 4
 },
 "nbformat": 4,
 "nbformat_minor": 2
}
