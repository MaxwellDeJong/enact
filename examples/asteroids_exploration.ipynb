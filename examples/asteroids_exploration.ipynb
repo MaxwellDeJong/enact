{
 "cells": [
  {
   "cell_type": "code",
   "execution_count": 1,
   "metadata": {},
   "outputs": [],
   "source": [
    "import asteroids"
   ]
  },
  {
   "cell_type": "code",
   "execution_count": 31,
   "metadata": {},
   "outputs": [],
   "source": [
    "import numpy as np\n",
    "\n",
    "def policy_fn(state: asteroids.State) -> asteroids.Action:\n",
    "  pos = state.position\n",
    "  goal_pos = state.goal_position\n",
    "  rot = state.rotation\n",
    "\n",
    "  x_to_goal = goal_pos[0] - pos[0]\n",
    "  y_to_goal = goal_pos[1] - pos[1]\n",
    "\n",
    "  angle_to_goal = np.arctan2(y_to_goal, x_to_goal)\n",
    "\n",
    "  forward_unit_vec = state.forward()\n",
    "  to_goal_unit_vec = np.stack([np.cos(angle_to_goal),\n",
    "                               np.sin(angle_to_goal)], axis=-1)\n",
    "\n",
    "  \n",
    "\n",
    "\n",
    "  if angle_to_goal > 0:\n",
    "    torque = -0.5\n",
    "  else:\n",
    "    torque = 0.5\n",
    "  thrust = 1.\n",
    "  return asteroids.Action(array=np.array([torque, thrust]))\n",
    "\n",
    "# def policy_fn(state: asteroids.State) -> asteroids.Action:\n",
    "#   .. Do stuff\n",
    "#   return action\n",
    "\n",
    "def policy_generator(state: asteroids.State) -> asteroids.Action:\n",
    "  while True:\n",
    "    state = yield policy_fn(state)"
   ]
  },
  {
   "cell_type": "code",
   "execution_count": 43,
   "metadata": {},
   "outputs": [],
   "source": [
    "gen = sample_generator(0)"
   ]
  },
  {
   "cell_type": "code",
   "execution_count": 45,
   "metadata": {},
   "outputs": [
    {
     "name": "stdout",
     "output_type": "stream",
     "text": [
      "0\n",
      "1\n",
      "2\n"
     ]
    }
   ],
   "source": [
    "print(gen.send(None))\n",
    "print(gen.send(0))\n",
    "print(gen.send(1))"
   ]
  },
  {
   "cell_type": "code",
   "execution_count": 47,
   "metadata": {},
   "outputs": [
    {
     "name": "stdout",
     "output_type": "stream",
     "text": [
      "Number: 1\n",
      "Number: 2\n",
      "Number: 3\n",
      "Number: 4\n"
     ]
    }
   ],
   "source": [
    "def sample_generator(num):\n",
    "  while True:\n",
    "    num = yield num\n",
    "    num += 1\n",
    "\n",
    "gen = sample_generator(0)\n",
    "gen.send(None)\n",
    "\n",
    "num = 0\n",
    "for _ in range(4):\n",
    "  num = gen.send(num)\n",
    "  print(f'Number: {num}')"
   ]
  },
  {
   "cell_type": "code",
   "execution_count": 32,
   "metadata": {},
   "outputs": [],
   "source": [
    "from typing import Generator\n",
    "# def policy_fn(state: asteroids.State) -> asteroids.Action:\n",
    "#   .. Do stuff\n",
    "#   return action\n",
    "\n",
    "def policy_generator(state: asteroids.State) -> Generator[asteroids.Action, asteroids.State, None]:\n",
    "  while True:\n",
    "    state = yield policy_fn(state)\n",
    "\n",
    "state = asteroids.State()\n",
    "iters = 100\n",
    "\n",
    "policy_gen = policy_generator(state)\n",
    "policy_gen.send(None)\n",
    "\n",
    "actions = []\n",
    "states = []\n",
    "\n",
    "for _ in range(iters):\n",
    "  states.append(state)\n",
    "  action = policy_gen.send(state)\n",
    "  actions.append(action)\n",
    "  state = state.dynamics(action)"
   ]
  },
  {
   "cell_type": "code",
   "execution_count": 33,
   "metadata": {},
   "outputs": [
    {
     "data": {
      "text/plain": [
       "array([23.247652 ,  4.1125174], dtype=float32)"
      ]
     },
     "execution_count": 33,
     "metadata": {},
     "output_type": "execute_result"
    }
   ],
   "source": [
    "states[0].position"
   ]
  },
  {
   "cell_type": "code",
   "execution_count": 34,
   "metadata": {},
   "outputs": [],
   "source": [
    "positions = np.array([s.position for s in states])\n",
    "goal_positions = np.array([s.goal_position for s in states])"
   ]
  },
  {
   "cell_type": "code",
   "execution_count": 35,
   "metadata": {},
   "outputs": [
    {
     "data": {
      "text/plain": [
       "<matplotlib.legend.Legend at 0x7faf05b717c0>"
      ]
     },
     "execution_count": 35,
     "metadata": {},
     "output_type": "execute_result"
    },
    {
     "data": {
      "image/png": "[encoded data removed]",
      "text/plain": [
       "<Figure size 640x480 with 1 Axes>"
      ]
     },
     "metadata": {},
     "output_type": "display_data"
    }
   ],
   "source": [
    "import matplotlib.pyplot as plt\n",
    "\n",
    "plt.scatter(goal_positions[0][0], goal_positions[0][1], marker='*', s=200, label='Goal')\n",
    "plt.scatter(positions[0, 0], positions[0, 1], c='g', s=200, label='Spawn')\n",
    "plt.scatter(positions[:, 0], positions[:, 1], alpha=0.2, c='k', label='Position')\n",
    "plt.legend()"
   ]
  },
  {
   "cell_type": "code",
   "execution_count": null,
   "metadata": {},
   "outputs": [],
   "source": []
  }
 ],
 "metadata": {
  "kernelspec": {
   "display_name": ".venv",
   "language": "python",
   "name": "python3"
  },
  "language_info": {
   "codemirror_mode": {
    "name": "ipython",
    "version": 3
   },
   "file_extension": ".py",
   "mimetype": "text/x-python",
   "name": "python",
   "nbconvert_exporter": "python",
   "pygments_lexer": "ipython3",
   "version": "3.8.10"
  },
  "orig_nbformat": 4
 },
 "nbformat": 4,
 "nbformat_minor": 2
}
