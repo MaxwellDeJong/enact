{
 "cells": [
  {
   "cell_type": "code",
   "execution_count": 1,
   "metadata": {},
   "outputs": [],
   "source": [
    "import dataclasses\n",
    "\n",
    "import numpy as np\n",
    "\n",
    "import enact\n",
    "import chat\n",
    "import llm_task\n",
    "\n",
    "import asteroids_2goal as asteroids\n",
    "import demo_utils\n",
    "\n",
    "task_prompt = '''\n",
    "Write a concise python function with the following signature.\n",
    "Answer with a single code block.'''\n",
    "code_gen_prompt = '''\n",
    "\n",
    "```\n",
    "def control_two_goal(position: np.ndarray,\n",
    "                     goal1: np.ndarray,\n",
    "                     goal2: np.ndarray,\n",
    "                     orientation: float) -> Tuple[float, float]:\n",
    "  \"\"\"Control an asteroids-style ship to move to both goals.\n",
    "  \n",
    "  Args:\n",
    "    position: A 2D vector representing the position of the ship.\n",
    "    goal1: A 2D vector representing the position of the first goal.\n",
    "    goal2: A 2D vector representing the position of the second goal.\n",
    "    orientation: A float representing the orientation of the ship in radians.\n",
    "  Returns:\n",
    "    A pair of floats representing:\n",
    "      torque: The amount of torque to apply to the ship, between -1 and 1.\n",
    "      thrust: The amount of thrust to apply to the ship, between 0.0 and 1\n",
    "  \"\"\"\n",
    "  <INSERT IMPLEMENTATION HERE>\n",
    "```\n",
    "'''\n",
    "\n",
    "code_gen = llm_task.Task(\n",
    "  task_prompt=task_prompt,\n",
    "  chat_agent=chat.GPTAgent(model='gpt-4'))\n",
    "code_gen.add_example(\n",
    "  '''```def add(x: int, y: int):\\n  <INSERT IMPLEMENTATION HERE>```''',\n",
    "  '''```python\\ndef add(x: int, y: int):\\n  return x + y\\n```''')\n",
    "\n",
    "@enact.typed_invokable(enact.NoneResource, enact.Str)\n",
    "@dataclasses.dataclass\n",
    "class CreatePolicy(enact.Invokable):\n",
    "  code_gen: llm_task.Task\n",
    "  \n",
    "  def call(self):\n",
    "    return self.code_gen(enact.Str(code_gen_prompt))\n",
    "\n",
    "\n",
    "sample_input = (np.zeros((2,)), np.zeros((2,)), np.zeros((2,)), 0.0)\n",
    "\n",
    "PolicyChecker = demo_utils.get_policy_checker(asteroids.Action,\n",
    "                                              asteroids.create_trajectory,\n",
    "                                              asteroids.plot_trajectory,\n",
    "                                              sample_input,\n",
    "                                              func_name='control_two_goal')\n",
    "\n",
    "store = enact.Store(backend=enact.FileBackend('/home/max/Documents/enact/examples/store_backend/'))\n",
    "store = enact.Store()\n",
    "with store:\n",
    "  post_processor_ref = enact.commit(PolicyChecker())\n",
    "  code_gen.post_processor = post_processor_ref\n",
    "  code_gen.max_retries = 2\n",
    "  create_policy = CreatePolicy(code_gen)"
   ]
  },
  {
   "cell_type": "code",
   "execution_count": 2,
   "metadata": {},
   "outputs": [
    {
     "name": "stderr",
     "output_type": "stream",
     "text": [
      "/home/max/Documents/enact/.venv/lib/python3.8/site-packages/tqdm/auto.py:21: TqdmWarning: IProgress not found. Please update jupyter and ipywidgets. See https://ipywidgets.readthedocs.io/en/stable/user_install.html\n",
      "  from .autonotebook import tqdm as notebook_tqdm\n"
     ]
    },
    {
     "name": "stdout",
     "output_type": "stream",
     "text": [
      "Running on local URL:  http://127.0.0.1:7861\n",
      "Running on public URL: https://a4bd7ee2eb9400d8b2.gradio.live\n",
      "\n",
      "This share link expires in 72 hours. For free permanent hosting and GPU upgrades, run `gradio deploy` from Terminal to deploy to Spaces (https://huggingface.co/spaces)\n"
     ]
    },
    {
     "data": {
      "text/html": [
       "<div><iframe src=\"https://a4bd7ee2eb9400d8b2.gradio.live\" width=\"100%\" height=\"500\" allow=\"autoplay; camera; microphone; clipboard-read; clipboard-write;\" frameborder=\"0\" allowfullscreen></iframe></div>"
      ],
      "text/plain": [
       "<IPython.core.display.HTML object>"
      ]
     },
     "metadata": {},
     "output_type": "display_data"
    },
    {
     "name": "stdout",
     "output_type": "stream",
     "text": [
      "Keyboard interruption in main thread... closing server.\n",
      "Killing tunnel 127.0.0.1:7861 <> https://a4bd7ee2eb9400d8b2.gradio.live\n"
     ]
    }
   ],
   "source": [
    "import enact.gradio as gradio\n",
    "\n",
    "with store:\n",
    "  gui = gradio.gradio.GUI(\n",
    "    enact.commit(create_policy),\n",
    "    input_required_outputs=[enact.Image],\n",
    "    input_required_inputs=[enact.Str])\n",
    "  gui.launch(share=True, debug=True)"
   ]
  }
 ],
 "metadata": {
  "kernelspec": {
   "display_name": ".venv",
   "language": "python",
   "name": "python3"
  },
  "language_info": {
   "codemirror_mode": {
    "name": "ipython",
    "version": 3
   },
   "file_extension": ".py",
   "mimetype": "text/x-python",
   "name": "python",
   "nbconvert_exporter": "python",
   "pygments_lexer": "ipython3",
   "version": "3.8.10"
  },
  "orig_nbformat": 4
 },
 "nbformat": 4,
 "nbformat_minor": 2
}
